{
 "cells": [
  {
   "cell_type": "markdown",
   "metadata": {},
   "source": [
    "<center>\n",
    "<img src=\"../../img/ods_stickers.jpg\" />\n",
    "    \n",
    "## [mlcourse.ai](mlcourse.ai) – Open Machine Learning Course \n",
    "\n",
    "Author: [Yury Kashnitskiy](https://yorko.github.io). \n",
    "Translated and edited by [Maxim Keremet](https://www.linkedin.com/in/maximkeremet/), [Artem Trunov](https://www.linkedin.com/in/datamove/), and [Aditya Soni](https://www.linkedin.com/in/aditya-soni-0505a9124/). This material is subject to the terms and conditions of the [Creative Commons CC BY-NC-SA 4.0](https://creativecommons.org/licenses/by-nc-sa/4.0/) license. Free use is permitted for any non-commercial purpose."
   ]
  },
  {
   "cell_type": "markdown",
   "metadata": {},
   "source": [
    "# <center>Assignment #2. Fall 2018 <br> Exploratory Data Analysis (EDA) of US flights <br> (using Pandas, Matplotlib & Seaborn)\n",
    "\n",
    "<img src='../../img/plane_sunset.png' width=50%>\n",
    "\n",
    "Prior to working on the assignment, you'd better check out the corresponding course material:\n",
    " - [Visualization: from Simple Distributions to Dimensionality Reduction](https://mlcourse.ai/notebooks/blob/master/jupyter_english/topic02_visual_data_analysis/topic2_visual_data_analysis.ipynb?flush_cache=true)\n",
    " - [Overview of Seaborn, Matplotlib and Plotly libraries](https://mlcourse.ai/notebooks/blob/master/jupyter_english/topic02_visual_data_analysis/topic2_additional_seaborn_matplotlib_plotly.ipynb?flush_cache=true)\n",
    " - first lectures in [this](https://www.youtube.com/watch?v=QKTuw4PNOsU&list=PLVlY_7IJCMJeRfZ68eVfEcu-UcN9BbwiX) YouTube playlist \n",
    "\n",
    "### Your task is to:\n",
    " - write code and perform computations in the cells below\n",
    " - choose answers in the [webform](https://docs.google.com/forms/d/1qSTjLAGqsmpFRhacv0vM-CMQSTT_mtOalNXdRTcdtM0/edit)\n",
    " - submit answers with **the very same email and name** as in assignment 1. This is a part of the assignment, if you don't manage to do so, you won't get credits. If in doubt, you can re-submit A1 form till the deadline for A1, no problem\n",
    " \n",
    "### <center> Deadline for A2: 2018 October 21, 20:59 CET\n",
    "\n"
   ]
  },
  {
   "cell_type": "code",
   "execution_count": 1,
   "metadata": {},
   "outputs": [],
   "source": [
    "import numpy as np\n",
    "import pandas as pd\n",
    "# pip install seaborn \n",
    "import seaborn as sns\n",
    "import matplotlib.pyplot as plt"
   ]
  },
  {
   "cell_type": "markdown",
   "metadata": {},
   "source": [
    "* Download the data [archive](http://stat-computing.org/dataexpo/2009/2008.csv.bz2) (Archived ~ 114 Mb, unzipped - ~ 690 Mb). No need to unzip - pandas can unbzip on the fly.\n",
    "* Place it in the \"../../data\" folder, or change the path below according to your location.\n",
    "* The dataset has information about carriers and flights between US airports during the year 2008. \n",
    "* Column description is available [here](http://www.transtats.bts.gov/Fields.asp?Table_ID=236). Visit this site to find ex. meaning of flight cancellation codes."
   ]
  },
  {
   "cell_type": "markdown",
   "metadata": {},
   "source": [
    "**Reading data into memory and creating a Pandas _DataFrame_ object**\n",
    "\n",
    "(This may take a while, be patient)\n",
    "\n",
    "We are not going to read in the whole dataset. In order to reduce memory footprint, we instead load only needed columns and cast them suitable data types."
   ]
  },
  {
   "cell_type": "code",
   "execution_count": 2,
   "metadata": {},
   "outputs": [],
   "source": [
    "dtype = {'DayOfWeek': np.uint8, 'DayofMonth': np.uint8, 'Month': np.uint8 , 'Cancelled': np.uint8, \n",
    "         'Year': np.uint16, 'FlightNum': np.uint16 , 'Distance': np.uint16, \n",
    "         'UniqueCarrier': str, 'CancellationCode': str, 'Origin': str, 'Dest': str,\n",
    "         'ArrDelay': np.float16, 'DepDelay': np.float16, 'CarrierDelay': np.float16,\n",
    "         'WeatherDelay': np.float16, 'NASDelay': np.float16, 'SecurityDelay': np.float16,\n",
    "         'LateAircraftDelay': np.float16, 'DepTime': np.float16}"
   ]
  },
  {
   "cell_type": "code",
   "execution_count": 3,
   "metadata": {},
   "outputs": [
    {
     "name": "stdout",
     "output_type": "stream",
     "text": [
<<<<<<< HEAD
      "CPU times: user 43.3 s, sys: 1.86 s, total: 45.2 s\n",
      "Wall time: 47.3 s\n"
=======
      "CPU times: user 26.6 s, sys: 311 ms, total: 26.9 s\n",
      "Wall time: 25.6 s\n"
>>>>>>> 1a334d0093fcda99b0a523163172a42b8bc84239
     ]
    }
   ],
   "source": [
    "%%time\n",
    "# change the path if needed\n",
    "path = '../../data/2008.csv.bz2'\n",
    "flights_df = pd.read_csv(path, usecols=dtype.keys(), dtype=dtype)"
   ]
  },
  {
   "cell_type": "markdown",
   "metadata": {},
   "source": [
    "**Check the number of rows and columns and print column names.**"
   ]
  },
  {
   "cell_type": "code",
   "execution_count": 4,
   "metadata": {},
   "outputs": [
    {
     "name": "stdout",
     "output_type": "stream",
     "text": [
      "(7009728, 19)\n",
      "Index(['Year', 'Month', 'DayofMonth', 'DayOfWeek', 'DepTime', 'UniqueCarrier',\n",
      "       'FlightNum', 'ArrDelay', 'DepDelay', 'Origin', 'Dest', 'Distance',\n",
      "       'Cancelled', 'CancellationCode', 'CarrierDelay', 'WeatherDelay',\n",
      "       'NASDelay', 'SecurityDelay', 'LateAircraftDelay'],\n",
      "      dtype='object')\n"
     ]
    }
   ],
   "source": [
    "print(flights_df.shape)\n",
    "print(flights_df.columns)"
   ]
  },
  {
   "cell_type": "markdown",
   "metadata": {},
   "source": [
    "**Print first 5 rows of the dataset.**"
   ]
  },
  {
   "cell_type": "code",
   "execution_count": 5,
   "metadata": {},
   "outputs": [
    {
     "data": {
      "text/html": [
       "<div>\n",
       "<style scoped>\n",
       "    .dataframe tbody tr th:only-of-type {\n",
       "        vertical-align: middle;\n",
       "    }\n",
       "\n",
       "    .dataframe tbody tr th {\n",
       "        vertical-align: top;\n",
       "    }\n",
       "\n",
       "    .dataframe thead th {\n",
       "        text-align: right;\n",
       "    }\n",
       "</style>\n",
       "<table border=\"1\" class=\"dataframe\">\n",
       "  <thead>\n",
       "    <tr style=\"text-align: right;\">\n",
       "      <th></th>\n",
       "      <th>Year</th>\n",
       "      <th>Month</th>\n",
       "      <th>DayofMonth</th>\n",
       "      <th>DayOfWeek</th>\n",
       "      <th>DepTime</th>\n",
       "      <th>UniqueCarrier</th>\n",
       "      <th>FlightNum</th>\n",
       "      <th>ArrDelay</th>\n",
       "      <th>DepDelay</th>\n",
       "      <th>Origin</th>\n",
       "      <th>Dest</th>\n",
       "      <th>Distance</th>\n",
       "      <th>Cancelled</th>\n",
       "      <th>CancellationCode</th>\n",
       "      <th>CarrierDelay</th>\n",
       "      <th>WeatherDelay</th>\n",
       "      <th>NASDelay</th>\n",
       "      <th>SecurityDelay</th>\n",
       "      <th>LateAircraftDelay</th>\n",
       "    </tr>\n",
       "  </thead>\n",
       "  <tbody>\n",
       "    <tr>\n",
       "      <th>0</th>\n",
       "      <td>2008</td>\n",
       "      <td>1</td>\n",
       "      <td>3</td>\n",
       "      <td>4</td>\n",
       "      <td>2003.0</td>\n",
       "      <td>WN</td>\n",
       "      <td>335</td>\n",
       "      <td>-14.0</td>\n",
       "      <td>8.0</td>\n",
       "      <td>IAD</td>\n",
       "      <td>TPA</td>\n",
       "      <td>810</td>\n",
       "      <td>0</td>\n",
       "      <td>NaN</td>\n",
       "      <td>NaN</td>\n",
       "      <td>NaN</td>\n",
       "      <td>NaN</td>\n",
       "      <td>NaN</td>\n",
       "      <td>NaN</td>\n",
       "    </tr>\n",
       "    <tr>\n",
       "      <th>1</th>\n",
       "      <td>2008</td>\n",
       "      <td>1</td>\n",
       "      <td>3</td>\n",
       "      <td>4</td>\n",
       "      <td>754.0</td>\n",
       "      <td>WN</td>\n",
       "      <td>3231</td>\n",
       "      <td>2.0</td>\n",
       "      <td>19.0</td>\n",
       "      <td>IAD</td>\n",
       "      <td>TPA</td>\n",
       "      <td>810</td>\n",
       "      <td>0</td>\n",
       "      <td>NaN</td>\n",
       "      <td>NaN</td>\n",
       "      <td>NaN</td>\n",
       "      <td>NaN</td>\n",
       "      <td>NaN</td>\n",
       "      <td>NaN</td>\n",
       "    </tr>\n",
       "    <tr>\n",
       "      <th>2</th>\n",
       "      <td>2008</td>\n",
       "      <td>1</td>\n",
       "      <td>3</td>\n",
       "      <td>4</td>\n",
       "      <td>628.0</td>\n",
       "      <td>WN</td>\n",
       "      <td>448</td>\n",
       "      <td>14.0</td>\n",
       "      <td>8.0</td>\n",
       "      <td>IND</td>\n",
       "      <td>BWI</td>\n",
       "      <td>515</td>\n",
       "      <td>0</td>\n",
       "      <td>NaN</td>\n",
       "      <td>NaN</td>\n",
       "      <td>NaN</td>\n",
       "      <td>NaN</td>\n",
       "      <td>NaN</td>\n",
       "      <td>NaN</td>\n",
       "    </tr>\n",
       "    <tr>\n",
       "      <th>3</th>\n",
       "      <td>2008</td>\n",
       "      <td>1</td>\n",
       "      <td>3</td>\n",
       "      <td>4</td>\n",
       "      <td>926.0</td>\n",
       "      <td>WN</td>\n",
       "      <td>1746</td>\n",
       "      <td>-6.0</td>\n",
       "      <td>-4.0</td>\n",
       "      <td>IND</td>\n",
       "      <td>BWI</td>\n",
       "      <td>515</td>\n",
       "      <td>0</td>\n",
       "      <td>NaN</td>\n",
       "      <td>NaN</td>\n",
       "      <td>NaN</td>\n",
       "      <td>NaN</td>\n",
       "      <td>NaN</td>\n",
       "      <td>NaN</td>\n",
       "    </tr>\n",
       "    <tr>\n",
       "      <th>4</th>\n",
       "      <td>2008</td>\n",
       "      <td>1</td>\n",
       "      <td>3</td>\n",
       "      <td>4</td>\n",
       "      <td>1829.0</td>\n",
       "      <td>WN</td>\n",
       "      <td>3920</td>\n",
       "      <td>34.0</td>\n",
       "      <td>34.0</td>\n",
       "      <td>IND</td>\n",
       "      <td>BWI</td>\n",
       "      <td>515</td>\n",
       "      <td>0</td>\n",
       "      <td>NaN</td>\n",
       "      <td>2.0</td>\n",
       "      <td>0.0</td>\n",
       "      <td>0.0</td>\n",
       "      <td>0.0</td>\n",
       "      <td>32.0</td>\n",
       "    </tr>\n",
       "  </tbody>\n",
       "</table>\n",
       "</div>"
      ],
      "text/plain": [
       "   Year  Month  DayofMonth  DayOfWeek  DepTime UniqueCarrier  FlightNum  \\\n",
       "0  2008      1           3          4   2003.0            WN        335   \n",
       "1  2008      1           3          4    754.0            WN       3231   \n",
       "2  2008      1           3          4    628.0            WN        448   \n",
       "3  2008      1           3          4    926.0            WN       1746   \n",
       "4  2008      1           3          4   1829.0            WN       3920   \n",
       "\n",
       "   ArrDelay  DepDelay Origin Dest  Distance  Cancelled CancellationCode  \\\n",
       "0     -14.0       8.0    IAD  TPA       810          0              NaN   \n",
       "1       2.0      19.0    IAD  TPA       810          0              NaN   \n",
       "2      14.0       8.0    IND  BWI       515          0              NaN   \n",
       "3      -6.0      -4.0    IND  BWI       515          0              NaN   \n",
       "4      34.0      34.0    IND  BWI       515          0              NaN   \n",
       "\n",
       "   CarrierDelay  WeatherDelay  NASDelay  SecurityDelay  LateAircraftDelay  \n",
       "0           NaN           NaN       NaN            NaN                NaN  \n",
       "1           NaN           NaN       NaN            NaN                NaN  \n",
       "2           NaN           NaN       NaN            NaN                NaN  \n",
       "3           NaN           NaN       NaN            NaN                NaN  \n",
       "4           2.0           0.0       0.0            0.0               32.0  "
      ]
     },
     "execution_count": 5,
     "metadata": {},
     "output_type": "execute_result"
    }
   ],
   "source": [
    "flights_df.head()"
   ]
  },
  {
   "cell_type": "markdown",
   "metadata": {},
   "source": [
    "**Transpose the frame to see all features at once.**"
   ]
  },
  {
   "cell_type": "code",
   "execution_count": 6,
<<<<<<< HEAD
   "metadata": {
    "collapsed": true
   },
=======
   "metadata": {},
>>>>>>> 1a334d0093fcda99b0a523163172a42b8bc84239
   "outputs": [
    {
     "data": {
      "text/html": [
       "<div>\n",
       "<style scoped>\n",
       "    .dataframe tbody tr th:only-of-type {\n",
       "        vertical-align: middle;\n",
       "    }\n",
       "\n",
       "    .dataframe tbody tr th {\n",
       "        vertical-align: top;\n",
       "    }\n",
       "\n",
       "    .dataframe thead th {\n",
       "        text-align: right;\n",
       "    }\n",
       "</style>\n",
       "<table border=\"1\" class=\"dataframe\">\n",
       "  <thead>\n",
       "    <tr style=\"text-align: right;\">\n",
       "      <th></th>\n",
       "      <th>0</th>\n",
       "      <th>1</th>\n",
       "      <th>2</th>\n",
       "      <th>3</th>\n",
       "      <th>4</th>\n",
       "    </tr>\n",
       "  </thead>\n",
       "  <tbody>\n",
       "    <tr>\n",
       "      <th>Year</th>\n",
       "      <td>2008</td>\n",
       "      <td>2008</td>\n",
       "      <td>2008</td>\n",
       "      <td>2008</td>\n",
       "      <td>2008</td>\n",
       "    </tr>\n",
       "    <tr>\n",
       "      <th>Month</th>\n",
       "      <td>1</td>\n",
       "      <td>1</td>\n",
       "      <td>1</td>\n",
       "      <td>1</td>\n",
       "      <td>1</td>\n",
       "    </tr>\n",
       "    <tr>\n",
       "      <th>DayofMonth</th>\n",
       "      <td>3</td>\n",
       "      <td>3</td>\n",
       "      <td>3</td>\n",
       "      <td>3</td>\n",
       "      <td>3</td>\n",
       "    </tr>\n",
       "    <tr>\n",
       "      <th>DayOfWeek</th>\n",
       "      <td>4</td>\n",
       "      <td>4</td>\n",
       "      <td>4</td>\n",
       "      <td>4</td>\n",
       "      <td>4</td>\n",
       "    </tr>\n",
       "    <tr>\n",
       "      <th>DepTime</th>\n",
       "      <td>2003</td>\n",
       "      <td>754</td>\n",
       "      <td>628</td>\n",
       "      <td>926</td>\n",
       "      <td>1829</td>\n",
       "    </tr>\n",
       "    <tr>\n",
       "      <th>UniqueCarrier</th>\n",
       "      <td>WN</td>\n",
       "      <td>WN</td>\n",
       "      <td>WN</td>\n",
       "      <td>WN</td>\n",
       "      <td>WN</td>\n",
       "    </tr>\n",
       "    <tr>\n",
       "      <th>FlightNum</th>\n",
       "      <td>335</td>\n",
       "      <td>3231</td>\n",
       "      <td>448</td>\n",
       "      <td>1746</td>\n",
       "      <td>3920</td>\n",
       "    </tr>\n",
       "    <tr>\n",
       "      <th>ArrDelay</th>\n",
       "      <td>-14</td>\n",
       "      <td>2</td>\n",
       "      <td>14</td>\n",
       "      <td>-6</td>\n",
       "      <td>34</td>\n",
       "    </tr>\n",
       "    <tr>\n",
       "      <th>DepDelay</th>\n",
       "      <td>8</td>\n",
       "      <td>19</td>\n",
       "      <td>8</td>\n",
       "      <td>-4</td>\n",
       "      <td>34</td>\n",
       "    </tr>\n",
       "    <tr>\n",
       "      <th>Origin</th>\n",
       "      <td>IAD</td>\n",
       "      <td>IAD</td>\n",
       "      <td>IND</td>\n",
       "      <td>IND</td>\n",
       "      <td>IND</td>\n",
       "    </tr>\n",
       "    <tr>\n",
       "      <th>Dest</th>\n",
       "      <td>TPA</td>\n",
       "      <td>TPA</td>\n",
       "      <td>BWI</td>\n",
       "      <td>BWI</td>\n",
       "      <td>BWI</td>\n",
       "    </tr>\n",
       "    <tr>\n",
       "      <th>Distance</th>\n",
       "      <td>810</td>\n",
       "      <td>810</td>\n",
       "      <td>515</td>\n",
       "      <td>515</td>\n",
       "      <td>515</td>\n",
       "    </tr>\n",
       "    <tr>\n",
       "      <th>Cancelled</th>\n",
       "      <td>0</td>\n",
       "      <td>0</td>\n",
       "      <td>0</td>\n",
       "      <td>0</td>\n",
       "      <td>0</td>\n",
       "    </tr>\n",
       "    <tr>\n",
       "      <th>CancellationCode</th>\n",
       "      <td>NaN</td>\n",
       "      <td>NaN</td>\n",
       "      <td>NaN</td>\n",
       "      <td>NaN</td>\n",
       "      <td>NaN</td>\n",
       "    </tr>\n",
       "    <tr>\n",
       "      <th>CarrierDelay</th>\n",
       "      <td>NaN</td>\n",
       "      <td>NaN</td>\n",
       "      <td>NaN</td>\n",
       "      <td>NaN</td>\n",
       "      <td>2</td>\n",
       "    </tr>\n",
       "    <tr>\n",
       "      <th>WeatherDelay</th>\n",
       "      <td>NaN</td>\n",
       "      <td>NaN</td>\n",
       "      <td>NaN</td>\n",
       "      <td>NaN</td>\n",
       "      <td>0</td>\n",
       "    </tr>\n",
       "    <tr>\n",
       "      <th>NASDelay</th>\n",
       "      <td>NaN</td>\n",
       "      <td>NaN</td>\n",
       "      <td>NaN</td>\n",
       "      <td>NaN</td>\n",
       "      <td>0</td>\n",
       "    </tr>\n",
       "    <tr>\n",
       "      <th>SecurityDelay</th>\n",
       "      <td>NaN</td>\n",
       "      <td>NaN</td>\n",
       "      <td>NaN</td>\n",
       "      <td>NaN</td>\n",
       "      <td>0</td>\n",
       "    </tr>\n",
       "    <tr>\n",
       "      <th>LateAircraftDelay</th>\n",
       "      <td>NaN</td>\n",
       "      <td>NaN</td>\n",
       "      <td>NaN</td>\n",
       "      <td>NaN</td>\n",
       "      <td>32</td>\n",
       "    </tr>\n",
       "  </tbody>\n",
       "</table>\n",
       "</div>"
      ],
      "text/plain": [
       "                      0     1     2     3     4\n",
       "Year               2008  2008  2008  2008  2008\n",
       "Month                 1     1     1     1     1\n",
       "DayofMonth            3     3     3     3     3\n",
       "DayOfWeek             4     4     4     4     4\n",
       "DepTime            2003   754   628   926  1829\n",
       "UniqueCarrier        WN    WN    WN    WN    WN\n",
       "FlightNum           335  3231   448  1746  3920\n",
       "ArrDelay            -14     2    14    -6    34\n",
       "DepDelay              8    19     8    -4    34\n",
       "Origin              IAD   IAD   IND   IND   IND\n",
       "Dest                TPA   TPA   BWI   BWI   BWI\n",
       "Distance            810   810   515   515   515\n",
       "Cancelled             0     0     0     0     0\n",
       "CancellationCode    NaN   NaN   NaN   NaN   NaN\n",
       "CarrierDelay        NaN   NaN   NaN   NaN     2\n",
       "WeatherDelay        NaN   NaN   NaN   NaN     0\n",
       "NASDelay            NaN   NaN   NaN   NaN     0\n",
       "SecurityDelay       NaN   NaN   NaN   NaN     0\n",
       "LateAircraftDelay   NaN   NaN   NaN   NaN    32"
      ]
     },
     "execution_count": 6,
     "metadata": {},
     "output_type": "execute_result"
    }
   ],
   "source": [
    "flights_df.head().T"
   ]
  },
  {
   "cell_type": "markdown",
   "metadata": {},
   "source": [
    "**Examine data types of all features and total dataframe size in memory.**"
   ]
  },
  {
   "cell_type": "code",
   "execution_count": 7,
<<<<<<< HEAD
   "metadata": {
    "collapsed": true
   },
=======
   "metadata": {},
>>>>>>> 1a334d0093fcda99b0a523163172a42b8bc84239
   "outputs": [
    {
     "name": "stdout",
     "output_type": "stream",
     "text": [
      "<class 'pandas.core.frame.DataFrame'>\n",
      "RangeIndex: 7009728 entries, 0 to 7009727\n",
      "Data columns (total 19 columns):\n",
      "Year                 uint16\n",
      "Month                uint8\n",
      "DayofMonth           uint8\n",
      "DayOfWeek            uint8\n",
      "DepTime              float16\n",
      "UniqueCarrier        object\n",
      "FlightNum            uint16\n",
      "ArrDelay             float16\n",
      "DepDelay             float16\n",
      "Origin               object\n",
      "Dest                 object\n",
      "Distance             uint16\n",
      "Cancelled            uint8\n",
      "CancellationCode     object\n",
      "CarrierDelay         float16\n",
      "WeatherDelay         float16\n",
      "NASDelay             float16\n",
      "SecurityDelay        float16\n",
      "LateAircraftDelay    float16\n",
      "dtypes: float16(8), object(4), uint16(3), uint8(4)\n",
      "memory usage: 387.7+ MB\n"
     ]
    }
   ],
   "source": [
    "flights_df.info()"
   ]
  },
  {
   "cell_type": "markdown",
   "metadata": {},
   "source": [
    "**Get basic statistics of each feature.**"
   ]
  },
  {
   "cell_type": "code",
   "execution_count": 8,
<<<<<<< HEAD
   "metadata": {
    "collapsed": true
   },
=======
   "metadata": {},
>>>>>>> 1a334d0093fcda99b0a523163172a42b8bc84239
   "outputs": [
    {
     "data": {
      "text/html": [
       "<div>\n",
       "<style scoped>\n",
       "    .dataframe tbody tr th:only-of-type {\n",
       "        vertical-align: middle;\n",
       "    }\n",
       "\n",
       "    .dataframe tbody tr th {\n",
       "        vertical-align: top;\n",
       "    }\n",
       "\n",
       "    .dataframe thead th {\n",
       "        text-align: right;\n",
       "    }\n",
       "</style>\n",
       "<table border=\"1\" class=\"dataframe\">\n",
       "  <thead>\n",
       "    <tr style=\"text-align: right;\">\n",
       "      <th></th>\n",
       "      <th>count</th>\n",
       "      <th>mean</th>\n",
       "      <th>std</th>\n",
       "      <th>min</th>\n",
       "      <th>25%</th>\n",
       "      <th>50%</th>\n",
       "      <th>75%</th>\n",
       "      <th>max</th>\n",
       "    </tr>\n",
       "  </thead>\n",
       "  <tbody>\n",
       "    <tr>\n",
       "      <th>Year</th>\n",
       "      <td>7009728.0</td>\n",
       "      <td>2008.000000</td>\n",
       "      <td>0.000000</td>\n",
       "      <td>2008.0</td>\n",
       "      <td>2008.0</td>\n",
       "      <td>2008.0</td>\n",
       "      <td>2008.0</td>\n",
       "      <td>2008.0</td>\n",
       "    </tr>\n",
       "    <tr>\n",
       "      <th>Month</th>\n",
       "      <td>7009728.0</td>\n",
       "      <td>6.375130</td>\n",
       "      <td>3.406737</td>\n",
       "      <td>1.0</td>\n",
       "      <td>3.0</td>\n",
       "      <td>6.0</td>\n",
       "      <td>9.0</td>\n",
       "      <td>12.0</td>\n",
       "    </tr>\n",
       "    <tr>\n",
       "      <th>DayofMonth</th>\n",
       "      <td>7009728.0</td>\n",
       "      <td>15.728015</td>\n",
       "      <td>8.797068</td>\n",
       "      <td>1.0</td>\n",
       "      <td>8.0</td>\n",
       "      <td>16.0</td>\n",
       "      <td>23.0</td>\n",
       "      <td>31.0</td>\n",
       "    </tr>\n",
       "    <tr>\n",
       "      <th>DayOfWeek</th>\n",
       "      <td>7009728.0</td>\n",
       "      <td>3.924182</td>\n",
       "      <td>1.988259</td>\n",
       "      <td>1.0</td>\n",
       "      <td>2.0</td>\n",
       "      <td>4.0</td>\n",
       "      <td>6.0</td>\n",
       "      <td>7.0</td>\n",
       "    </tr>\n",
       "    <tr>\n",
       "      <th>DepTime</th>\n",
       "      <td>6873482.0</td>\n",
       "      <td>NaN</td>\n",
       "      <td>NaN</td>\n",
       "      <td>1.0</td>\n",
       "      <td>928.0</td>\n",
       "      <td>1325.0</td>\n",
       "      <td>1728.0</td>\n",
       "      <td>2400.0</td>\n",
       "    </tr>\n",
       "    <tr>\n",
       "      <th>FlightNum</th>\n",
       "      <td>7009728.0</td>\n",
       "      <td>2224.200105</td>\n",
       "      <td>1961.715999</td>\n",
       "      <td>1.0</td>\n",
       "      <td>622.0</td>\n",
       "      <td>1571.0</td>\n",
       "      <td>3518.0</td>\n",
       "      <td>9743.0</td>\n",
       "    </tr>\n",
       "    <tr>\n",
       "      <th>ArrDelay</th>\n",
       "      <td>6855029.0</td>\n",
       "      <td>NaN</td>\n",
       "      <td>NaN</td>\n",
       "      <td>-519.0</td>\n",
       "      <td>-10.0</td>\n",
       "      <td>-2.0</td>\n",
       "      <td>12.0</td>\n",
       "      <td>2460.0</td>\n",
       "    </tr>\n",
       "    <tr>\n",
       "      <th>DepDelay</th>\n",
       "      <td>6873482.0</td>\n",
       "      <td>NaN</td>\n",
       "      <td>NaN</td>\n",
       "      <td>-534.0</td>\n",
       "      <td>-4.0</td>\n",
       "      <td>-1.0</td>\n",
       "      <td>8.0</td>\n",
       "      <td>2468.0</td>\n",
       "    </tr>\n",
       "    <tr>\n",
       "      <th>Distance</th>\n",
       "      <td>7009728.0</td>\n",
       "      <td>726.387029</td>\n",
       "      <td>562.101803</td>\n",
       "      <td>11.0</td>\n",
       "      <td>325.0</td>\n",
       "      <td>581.0</td>\n",
       "      <td>954.0</td>\n",
       "      <td>4962.0</td>\n",
       "    </tr>\n",
       "    <tr>\n",
       "      <th>Cancelled</th>\n",
       "      <td>7009728.0</td>\n",
       "      <td>0.019606</td>\n",
       "      <td>0.138643</td>\n",
       "      <td>0.0</td>\n",
       "      <td>0.0</td>\n",
       "      <td>0.0</td>\n",
       "      <td>0.0</td>\n",
       "      <td>1.0</td>\n",
       "    </tr>\n",
       "    <tr>\n",
       "      <th>CarrierDelay</th>\n",
       "      <td>1524735.0</td>\n",
       "      <td>NaN</td>\n",
       "      <td>NaN</td>\n",
       "      <td>0.0</td>\n",
       "      <td>0.0</td>\n",
       "      <td>0.0</td>\n",
       "      <td>16.0</td>\n",
       "      <td>2436.0</td>\n",
       "    </tr>\n",
       "    <tr>\n",
       "      <th>WeatherDelay</th>\n",
       "      <td>1524735.0</td>\n",
       "      <td>NaN</td>\n",
       "      <td>NaN</td>\n",
       "      <td>0.0</td>\n",
       "      <td>0.0</td>\n",
       "      <td>0.0</td>\n",
       "      <td>0.0</td>\n",
       "      <td>1352.0</td>\n",
       "    </tr>\n",
       "    <tr>\n",
       "      <th>NASDelay</th>\n",
       "      <td>1524735.0</td>\n",
       "      <td>NaN</td>\n",
       "      <td>NaN</td>\n",
       "      <td>0.0</td>\n",
       "      <td>0.0</td>\n",
       "      <td>6.0</td>\n",
       "      <td>21.0</td>\n",
       "      <td>1357.0</td>\n",
       "    </tr>\n",
       "    <tr>\n",
       "      <th>SecurityDelay</th>\n",
       "      <td>1524735.0</td>\n",
       "      <td>NaN</td>\n",
       "      <td>NaN</td>\n",
       "      <td>0.0</td>\n",
       "      <td>0.0</td>\n",
       "      <td>0.0</td>\n",
       "      <td>0.0</td>\n",
       "      <td>392.0</td>\n",
       "    </tr>\n",
       "    <tr>\n",
       "      <th>LateAircraftDelay</th>\n",
       "      <td>1524735.0</td>\n",
       "      <td>NaN</td>\n",
       "      <td>NaN</td>\n",
       "      <td>0.0</td>\n",
       "      <td>0.0</td>\n",
       "      <td>0.0</td>\n",
       "      <td>26.0</td>\n",
       "      <td>1316.0</td>\n",
       "    </tr>\n",
       "  </tbody>\n",
       "</table>\n",
       "</div>"
      ],
      "text/plain": [
       "                       count         mean          std     min     25%  \\\n",
       "Year               7009728.0  2008.000000     0.000000  2008.0  2008.0   \n",
       "Month              7009728.0     6.375130     3.406737     1.0     3.0   \n",
       "DayofMonth         7009728.0    15.728015     8.797068     1.0     8.0   \n",
       "DayOfWeek          7009728.0     3.924182     1.988259     1.0     2.0   \n",
       "DepTime            6873482.0          NaN          NaN     1.0   928.0   \n",
       "FlightNum          7009728.0  2224.200105  1961.715999     1.0   622.0   \n",
       "ArrDelay           6855029.0          NaN          NaN  -519.0   -10.0   \n",
       "DepDelay           6873482.0          NaN          NaN  -534.0    -4.0   \n",
       "Distance           7009728.0   726.387029   562.101803    11.0   325.0   \n",
       "Cancelled          7009728.0     0.019606     0.138643     0.0     0.0   \n",
       "CarrierDelay       1524735.0          NaN          NaN     0.0     0.0   \n",
       "WeatherDelay       1524735.0          NaN          NaN     0.0     0.0   \n",
       "NASDelay           1524735.0          NaN          NaN     0.0     0.0   \n",
       "SecurityDelay      1524735.0          NaN          NaN     0.0     0.0   \n",
       "LateAircraftDelay  1524735.0          NaN          NaN     0.0     0.0   \n",
       "\n",
       "                      50%     75%     max  \n",
       "Year               2008.0  2008.0  2008.0  \n",
       "Month                 6.0     9.0    12.0  \n",
       "DayofMonth           16.0    23.0    31.0  \n",
       "DayOfWeek             4.0     6.0     7.0  \n",
       "DepTime            1325.0  1728.0  2400.0  \n",
       "FlightNum          1571.0  3518.0  9743.0  \n",
       "ArrDelay             -2.0    12.0  2460.0  \n",
       "DepDelay             -1.0     8.0  2468.0  \n",
       "Distance            581.0   954.0  4962.0  \n",
       "Cancelled             0.0     0.0     1.0  \n",
       "CarrierDelay          0.0    16.0  2436.0  \n",
       "WeatherDelay          0.0     0.0  1352.0  \n",
       "NASDelay              6.0    21.0  1357.0  \n",
       "SecurityDelay         0.0     0.0   392.0  \n",
       "LateAircraftDelay     0.0    26.0  1316.0  "
      ]
     },
     "execution_count": 8,
     "metadata": {},
     "output_type": "execute_result"
    }
   ],
   "source": [
    "flights_df.describe().T"
   ]
  },
  {
   "cell_type": "markdown",
   "metadata": {},
   "source": [
    "**Count unique Carriers and plot their relative share of flights:**"
   ]
  },
  {
   "cell_type": "code",
   "execution_count": 9,
   "metadata": {},
   "outputs": [
    {
     "data": {
      "text/plain": [
       "20"
      ]
     },
     "execution_count": 9,
     "metadata": {},
     "output_type": "execute_result"
    }
   ],
   "source": [
    "flights_df['UniqueCarrier'].nunique()"
   ]
  },
  {
   "cell_type": "code",
   "execution_count": 10,
<<<<<<< HEAD
   "metadata": {
    "collapsed": true
   },
=======
   "metadata": {},
>>>>>>> 1a334d0093fcda99b0a523163172a42b8bc84239
   "outputs": [
    {
     "data": {
      "image/png": "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\n",
      "text/plain": [
       "<Figure size 432x288 with 1 Axes>"
      ]
     },
     "metadata": {
      "needs_background": "light"
     },
     "output_type": "display_data"
    }
   ],
   "source": [
    "flights_df.groupby('UniqueCarrier').size().plot(kind='bar');"
   ]
  },
  {
   "cell_type": "markdown",
   "metadata": {},
   "source": [
    "**We can also _group by_ category/categories in order to calculate different aggregated statistics.**\n",
    "\n",
    "**For example, finding top-3 flight codes, that have the largest total distance travelled in year 2008.**"
   ]
  },
  {
   "cell_type": "code",
<<<<<<< HEAD
   "execution_count": 7,
   "metadata": {
    "collapsed": true
   },
=======
   "execution_count": 11,
   "metadata": {},
>>>>>>> 1a334d0093fcda99b0a523163172a42b8bc84239
   "outputs": [
    {
     "data": {
      "text/plain": [
       "UniqueCarrier  FlightNum\n",
       "CO             15           1796244.0\n",
       "               14           1796244.0\n",
       "UA             52           1789722.0\n",
       "Name: Distance, dtype: float64"
      ]
     },
<<<<<<< HEAD
     "execution_count": 7,
=======
     "execution_count": 11,
>>>>>>> 1a334d0093fcda99b0a523163172a42b8bc84239
     "metadata": {},
     "output_type": "execute_result"
    }
   ],
   "source": [
    "flights_df.groupby(['UniqueCarrier','FlightNum'])['Distance'].sum().sort_values(ascending=False).iloc[:3]"
   ]
  },
  {
   "cell_type": "markdown",
   "metadata": {},
   "source": [
    "**Another way:**"
   ]
  },
  {
   "cell_type": "code",
   "execution_count": 12,
<<<<<<< HEAD
   "metadata": {
    "collapsed": true
   },
=======
   "metadata": {},
>>>>>>> 1a334d0093fcda99b0a523163172a42b8bc84239
   "outputs": [
    {
     "data": {
      "text/html": [
       "<div>\n",
       "<style scoped>\n",
       "    .dataframe tbody tr th:only-of-type {\n",
       "        vertical-align: middle;\n",
       "    }\n",
       "\n",
       "    .dataframe tbody tr th {\n",
       "        vertical-align: top;\n",
       "    }\n",
       "\n",
       "    .dataframe thead tr th {\n",
       "        text-align: left;\n",
       "    }\n",
       "\n",
       "    .dataframe thead tr:last-of-type th {\n",
       "        text-align: right;\n",
       "    }\n",
       "</style>\n",
       "<table border=\"1\" class=\"dataframe\">\n",
       "  <thead>\n",
       "    <tr>\n",
       "      <th></th>\n",
       "      <th></th>\n",
       "      <th colspan=\"3\" halign=\"left\">Distance</th>\n",
       "      <th>Cancelled</th>\n",
       "    </tr>\n",
       "    <tr>\n",
       "      <th></th>\n",
       "      <th></th>\n",
       "      <th>mean</th>\n",
       "      <th>sum</th>\n",
       "      <th>count</th>\n",
       "      <th>sum</th>\n",
       "    </tr>\n",
       "    <tr>\n",
       "      <th>UniqueCarrier</th>\n",
       "      <th>FlightNum</th>\n",
       "      <th></th>\n",
       "      <th></th>\n",
       "      <th></th>\n",
       "      <th></th>\n",
       "    </tr>\n",
       "  </thead>\n",
       "  <tbody>\n",
       "    <tr>\n",
       "      <th rowspan=\"2\" valign=\"top\">CO</th>\n",
       "      <th>15</th>\n",
       "      <td>4962.000000</td>\n",
       "      <td>1796244.0</td>\n",
       "      <td>362</td>\n",
       "      <td>0</td>\n",
       "    </tr>\n",
       "    <tr>\n",
       "      <th>14</th>\n",
       "      <td>4962.000000</td>\n",
       "      <td>1796244.0</td>\n",
       "      <td>362</td>\n",
       "      <td>0</td>\n",
       "    </tr>\n",
       "    <tr>\n",
       "      <th>UA</th>\n",
       "      <th>52</th>\n",
       "      <td>2465.181818</td>\n",
       "      <td>1789722.0</td>\n",
       "      <td>726</td>\n",
       "      <td>8</td>\n",
       "    </tr>\n",
       "  </tbody>\n",
       "</table>\n",
       "</div>"
      ],
      "text/plain": [
       "                            Distance                  Cancelled\n",
       "                                mean        sum count       sum\n",
       "UniqueCarrier FlightNum                                        \n",
       "CO            15         4962.000000  1796244.0   362         0\n",
       "              14         4962.000000  1796244.0   362         0\n",
       "UA            52         2465.181818  1789722.0   726         8"
      ]
     },
     "execution_count": 12,
     "metadata": {},
     "output_type": "execute_result"
    }
   ],
   "source": [
    "flights_df.groupby(['UniqueCarrier','FlightNum'])\\\n",
    "  .agg({'Distance': [np.mean, np.sum, 'count'],\n",
    "        'Cancelled': np.sum})\\\n",
    "  .sort_values(('Distance', 'sum'), ascending=False)\\\n",
    "  .iloc[0:3]"
   ]
  },
  {
   "cell_type": "markdown",
   "metadata": {},
   "source": [
    "**Number of flights by days of week and months:**"
   ]
  },
  {
   "cell_type": "code",
<<<<<<< HEAD
   "execution_count": 8,
   "metadata": {
    "collapsed": true
   },
=======
   "execution_count": 13,
   "metadata": {},
>>>>>>> 1a334d0093fcda99b0a523163172a42b8bc84239
   "outputs": [
    {
     "data": {
      "text/html": [
       "<div>\n",
       "<style scoped>\n",
       "    .dataframe tbody tr th:only-of-type {\n",
       "        vertical-align: middle;\n",
       "    }\n",
       "\n",
       "    .dataframe tbody tr th {\n",
       "        vertical-align: top;\n",
       "    }\n",
       "\n",
       "    .dataframe thead th {\n",
       "        text-align: right;\n",
       "    }\n",
       "</style>\n",
       "<table border=\"1\" class=\"dataframe\">\n",
       "  <thead>\n",
       "    <tr style=\"text-align: right;\">\n",
       "      <th>DayOfWeek</th>\n",
       "      <th>1</th>\n",
       "      <th>2</th>\n",
       "      <th>3</th>\n",
       "      <th>4</th>\n",
       "      <th>5</th>\n",
       "      <th>6</th>\n",
       "      <th>7</th>\n",
       "    </tr>\n",
       "    <tr>\n",
       "      <th>Month</th>\n",
       "      <th></th>\n",
       "      <th></th>\n",
       "      <th></th>\n",
       "      <th></th>\n",
       "      <th></th>\n",
       "      <th></th>\n",
       "      <th></th>\n",
       "    </tr>\n",
       "  </thead>\n",
       "  <tbody>\n",
       "    <tr>\n",
       "      <th>1</th>\n",
       "      <td>80807</td>\n",
       "      <td>97298</td>\n",
       "      <td>100080</td>\n",
       "      <td>102043</td>\n",
       "      <td>81940</td>\n",
       "      <td>67178</td>\n",
       "      <td>76419</td>\n",
       "    </tr>\n",
       "    <tr>\n",
       "      <th>2</th>\n",
       "      <td>81504</td>\n",
       "      <td>79700</td>\n",
       "      <td>80587</td>\n",
       "      <td>82158</td>\n",
       "      <td>102726</td>\n",
       "      <td>66462</td>\n",
       "      <td>76099</td>\n",
       "    </tr>\n",
       "    <tr>\n",
       "      <th>3</th>\n",
       "      <td>103210</td>\n",
       "      <td>81159</td>\n",
       "      <td>82307</td>\n",
       "      <td>82831</td>\n",
       "      <td>82936</td>\n",
       "      <td>86153</td>\n",
       "      <td>97494</td>\n",
       "    </tr>\n",
       "    <tr>\n",
       "      <th>4</th>\n",
       "      <td>82463</td>\n",
       "      <td>100785</td>\n",
       "      <td>102586</td>\n",
       "      <td>82799</td>\n",
       "      <td>82964</td>\n",
       "      <td>68304</td>\n",
       "      <td>78225</td>\n",
       "    </tr>\n",
       "    <tr>\n",
       "      <th>5</th>\n",
       "      <td>80626</td>\n",
       "      <td>79884</td>\n",
       "      <td>81264</td>\n",
       "      <td>102572</td>\n",
       "      <td>102878</td>\n",
       "      <td>84493</td>\n",
       "      <td>74576</td>\n",
       "    </tr>\n",
       "    <tr>\n",
       "      <th>6</th>\n",
       "      <td>104168</td>\n",
       "      <td>82160</td>\n",
       "      <td>82902</td>\n",
       "      <td>83617</td>\n",
       "      <td>83930</td>\n",
       "      <td>72322</td>\n",
       "      <td>99566</td>\n",
       "    </tr>\n",
       "    <tr>\n",
       "      <th>7</th>\n",
       "      <td>84095</td>\n",
       "      <td>103429</td>\n",
       "      <td>103315</td>\n",
       "      <td>105035</td>\n",
       "      <td>79349</td>\n",
       "      <td>72219</td>\n",
       "      <td>80489</td>\n",
       "    </tr>\n",
       "    <tr>\n",
       "      <th>8</th>\n",
       "      <td>82983</td>\n",
       "      <td>80895</td>\n",
       "      <td>81773</td>\n",
       "      <td>82625</td>\n",
       "      <td>103878</td>\n",
       "      <td>86155</td>\n",
       "      <td>93970</td>\n",
       "    </tr>\n",
       "    <tr>\n",
       "      <th>9</th>\n",
       "      <td>94300</td>\n",
       "      <td>91533</td>\n",
       "      <td>74057</td>\n",
       "      <td>75589</td>\n",
       "      <td>75881</td>\n",
       "      <td>58343</td>\n",
       "      <td>71205</td>\n",
       "    </tr>\n",
       "    <tr>\n",
       "      <th>10</th>\n",
       "      <td>75131</td>\n",
       "      <td>72195</td>\n",
       "      <td>91900</td>\n",
       "      <td>94123</td>\n",
       "      <td>93894</td>\n",
       "      <td>58168</td>\n",
       "      <td>70794</td>\n",
       "    </tr>\n",
       "    <tr>\n",
       "      <th>11</th>\n",
       "      <td>74214</td>\n",
       "      <td>72443</td>\n",
       "      <td>73653</td>\n",
       "      <td>68071</td>\n",
       "      <td>70484</td>\n",
       "      <td>76031</td>\n",
       "      <td>88376</td>\n",
       "    </tr>\n",
       "    <tr>\n",
       "      <th>12</th>\n",
       "      <td>92700</td>\n",
       "      <td>90568</td>\n",
       "      <td>85241</td>\n",
       "      <td>70761</td>\n",
       "      <td>74306</td>\n",
       "      <td>61708</td>\n",
       "      <td>69674</td>\n",
       "    </tr>\n",
       "  </tbody>\n",
       "</table>\n",
       "</div>"
      ],
      "text/plain": [
       "DayOfWeek       1       2       3       4       5      6      7\n",
       "Month                                                          \n",
       "1           80807   97298  100080  102043   81940  67178  76419\n",
       "2           81504   79700   80587   82158  102726  66462  76099\n",
       "3          103210   81159   82307   82831   82936  86153  97494\n",
       "4           82463  100785  102586   82799   82964  68304  78225\n",
       "5           80626   79884   81264  102572  102878  84493  74576\n",
       "6          104168   82160   82902   83617   83930  72322  99566\n",
       "7           84095  103429  103315  105035   79349  72219  80489\n",
       "8           82983   80895   81773   82625  103878  86155  93970\n",
       "9           94300   91533   74057   75589   75881  58343  71205\n",
       "10          75131   72195   91900   94123   93894  58168  70794\n",
       "11          74214   72443   73653   68071   70484  76031  88376\n",
       "12          92700   90568   85241   70761   74306  61708  69674"
      ]
     },
<<<<<<< HEAD
     "execution_count": 8,
=======
     "execution_count": 13,
>>>>>>> 1a334d0093fcda99b0a523163172a42b8bc84239
     "metadata": {},
     "output_type": "execute_result"
    }
   ],
   "source": [
    "pd.crosstab(flights_df.Month, flights_df.DayOfWeek)"
   ]
  },
  {
   "cell_type": "markdown",
   "metadata": {},
   "source": [
    "**It can also be handy to color such tables in order to easily notice outliers:**"
   ]
  },
  {
   "cell_type": "code",
<<<<<<< HEAD
   "execution_count": 9,
   "metadata": {
    "collapsed": true
   },
   "outputs": [
    {
     "data": {
      "image/png": "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\n",
=======
   "execution_count": 14,
   "metadata": {},
   "outputs": [
    {
     "data": {
      "image/png": "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\n",
>>>>>>> 1a334d0093fcda99b0a523163172a42b8bc84239
      "text/plain": [
       "<Figure size 432x288 with 1 Axes>"
      ]
     },
<<<<<<< HEAD
     "metadata": {},
=======
     "metadata": {
      "needs_background": "light"
     },
>>>>>>> 1a334d0093fcda99b0a523163172a42b8bc84239
     "output_type": "display_data"
    }
   ],
   "source": [
    "plt.imshow(pd.crosstab(flights_df.Month, flights_df.DayOfWeek),\n",
    "           cmap='seismic', interpolation='none');"
   ]
  },
  {
   "cell_type": "markdown",
   "metadata": {},
   "source": [
    "**Flight distance histogram:**"
   ]
  },
  {
   "cell_type": "code",
<<<<<<< HEAD
   "execution_count": 10,
   "metadata": {
    "collapsed": true
=======
   "execution_count": 15,
   "metadata": {
    "scrolled": true
>>>>>>> 1a334d0093fcda99b0a523163172a42b8bc84239
   },
   "outputs": [
    {
     "data": {
<<<<<<< HEAD
      "image/png": "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\n",
=======
      "image/png": "iVBORw0KGgoAAAANSUhEUgAAAZMAAAEICAYAAACavRnhAAAABHNCSVQICAgIfAhkiAAAAAlwSFlzAAALEgAACxIB0t1+/AAAADl0RVh0U29mdHdhcmUAbWF0cGxvdGxpYiB2ZXJzaW9uIDIuMi4zLCBodHRwOi8vbWF0cGxvdGxpYi5vcmcvIxREBQAAHPFJREFUeJzt3X+QVeWd5/H3JxiN4y9QtJcFIjj2TI3KDKO9apU72R7JKKgTzJbuwFqhVaZIXK2d1LA1YsyuGY2zJFPEXaeMLlkpMeuIjsaRiTiGUW8Zq0TFSAQ1hpYQbSFQCiKtE5PG7/5xntZj5/YP7tPdl9v386o6dc/5nud5zvneavrb5znnXhQRmJmZ5fhEvU/AzMwan4uJmZllczExM7NsLiZmZpbNxcTMzLK5mJiZWTYXE7MMkm6T9N/rfR5m9SZ/zsSsf5K2Ai1AD7APeAm4E1geER/s5zh/HhH/MgKnaVZ3vjIxG9yfRsQRwPHAUuBq4Pb6npLZgcXFxGyIImJPRKwG/gzokHSKpDskfR1A0kRJ35f0tqRdkn4o6ROSvgt8GvgnSd2S/iq1/wdJv5C0R9ITkk7uPVYa9xZJD0naK+lpSb9d2n+ypLXpODskfSXFPyFpiaRXJb0l6V5JR4/m+2TNycXEbD9FxDNAF/BHfXYtTvFjKabGvlI0jy8Ar1Fc4RweEd9M7R8GWoHjgB8Bd/UZbz7w18AEoBO4EUDSEcC/AP8M/FvgRODR1Oe/AhcC/yHt2w3ckp202SBcTMxqsw3o+xf/r4FJwPER8euI+GEMcFMyIlZExN6IeB/4GvAHko4qNfleRDwTET0UhWZmil8A/CIilkXEL9MYT6d9XwSujYiu0rgXSTooM1+zAbmYmNVmMrCrT+xvKa4gfiBpi6Ql/XWWNE7S0jQd9Q6wNe2aWGr2i9L6e8DhaX0q8Go/Qx8PPJCm2t4GXqZ4cKBlCDmZ1czFxGw/Sfp3FMXkyXI8XSEsjogTgD8F/lLSrN7dfYb5z8Bc4LPAUcC03uGHcAqvA789wL45ETG+tHwqIt4YwrhmNXMxMRsiSUdKugBYBfy/iNjYZ/8Fkk6UJOAdiiuCfWn3DuCEUvMjgPeBt4DfAv5mP07l+8C/kfRlSYdIOkLSGWnfbcCNko5P53SspLn7l6nZ/nMxMRvcP0naS/FX/7XAt4DLqrRrpbgx3g08BXw7Iipp3/8Evpqmn/4bxWdVfg68QfHZlXVDPZmI2Av8CcXVzy+AzcAfp93/G1hNMdW2N417RrVxzIaTP7RoZmbZfGViZmbZXEzMzCybi4mZmWVzMTEzs2xN86nYiRMnxrRp02rq++6773LYYYcN7wkd4JoxZ2jOvJsxZ2jOvGvJ+bnnnnszIo4drF3TFJNp06axfv36mvpWKhXa29uH94QOcM2YMzRn3s2YMzRn3rXkLOnnQ2nnaS4zM8vmYmJmZtlcTMzMLJuLiZmZZXMxMTOzbC4mZmaWzcXEzMyyuZiYmVk2FxMzM8vWNJ+Ar6dpSx6que/WpecP45mYmY0MX5mYmVk2FxMzM8vmYmJmZtlcTMzMLJuLiZmZZXMxMTOzbC4mZmaWbdBiImmFpJ2SNpVi90jakJatkjak+DRJ/1rad1upz2mSNkrqlHSzJKX40ZLWStqcXiekuFK7TkkvSDq1NFZHar9ZUsdwviFmZrb/hnJlcgcwuxyIiD+LiJkRMRO4H/heafervfsi4kul+K3AIqA1Lb1jLgEejYhW4NG0DTCn1HZR6o+ko4HrgDOA04HreguQmZnVx6DFJCKeAHZV25euLv4TcPdAY0iaBBwZEU9FRAB3Ahem3XOBlWl9ZZ/4nVFYB4xP45wLrI2IXRGxG1hLn2JnZmajK/frVP4I2BERm0ux6ZKeB94BvhoRPwQmA12lNl0pBtASEdsBImK7pONSfDLwepU+/cV/g6RFFFc1tLS0UKlU9jtBgO7u7pr7Aiye0VNz35zj5sjNuVE1Y97NmDM0Z94jmXNuMZnPx69KtgOfjoi3JJ0G/KOkkwFV6RuDjN1fnyGPFRHLgeUAbW1t0d7ePsghq6tUKtTaF+DSnO/muqT24+bIzblRNWPezZgzNGfeI5lzzU9zSToI+I/APb2xiHg/It5K688BrwK/Q3H1MKXUfQqwLa3vSNNXvdNhO1O8C5hapU9/cTMzq5OcR4M/C/wkIj6cvpJ0rKRxaf0EipvnW9I01l5JZ6b7LAuAB1O31UDvE1kdfeIL0lNdZwJ70jiPAOdImpBuvJ+TYmZmVieDTnNJuhtoByZK6gKui4jbgXn85o33zwDXS+oB9gFfiojem/dXUDwZdijwcFoAlgL3SloIvAZcnOJrgPOATuA94DKAiNgl6Qbg2dTu+tIxzMysDgYtJhExv5/4pVVi91M8Klyt/XrglCrxt4BZVeIBXNnPWCuAFQOdt5mZjR5/At7MzLK5mJiZWTYXEzMzy+ZiYmZm2VxMzMwsm4uJmZllczExM7NsLiZmZpbNxcTMzLK5mJiZWTYXEzMzy+ZiYmZm2VxMzMwsm4uJmZllczExM7NsLiZmZpbNxcTMzLK5mJiZWTYXEzMzyzZoMZG0QtJOSZtKsa9JekPShrScV9p3jaROSa9IOrcUn51inZKWlOLTJT0tabOkeyQdnOKHpO3OtH/aYMcwM7P6GMqVyR3A7CrxmyJiZlrWAEg6CZgHnJz6fFvSOEnjgFuAOcBJwPzUFuAbaaxWYDewMMUXArsj4kTgptSu32PsX9pmZjacBi0mEfEEsGuI480FVkXE+xHxM6ATOD0tnRGxJSJ+BawC5koScDZwX+q/EriwNNbKtH4fMCu17+8YZmZWJwdl9L1K0gJgPbA4InYDk4F1pTZdKQbwep/4GcAxwNsR0VOl/eTePhHRI2lPaj/QMT5G0iJgEUBLSwuVSmX/swS6u7tr7guweEbP4I36kXPcHLk5N6pmzLsZc4bmzHskc661mNwK3ABEel0GXA6oStug+hVQDNCeAfYN1OfjwYjlwHKAtra2aG9vr9ZsUJVKhVr7Aly65KGa+269pPbj5sjNuVE1Y97NmDM0Z94jmXNNT3NFxI6I2BcRHwDf4aNppi5gaqnpFGDbAPE3gfGSDuoT/9hYaf9RFNNt/Y1lZmZ1UlMxkTSptPl5oPdJr9XAvPQk1nSgFXgGeBZoTU9uHUxxA311RATwOHBR6t8BPFgaqyOtXwQ8ltr3dwwzM6uTQae5JN0NtAMTJXUB1wHtkmZSTC9tBb4IEBEvSroXeAnoAa6MiH1pnKuAR4BxwIqIeDEd4mpglaSvA88Dt6f47cB3JXVSXJHMG+wYZmZWH4MWk4iYXyV8e5VYb/sbgRurxNcAa6rEt1DlaayI+CVw8f4cw8zM6sOfgDczs2wuJmZmls3FxMzMsrmYmJlZNhcTMzPL5mJiZmbZcr6by0bBtJyvYll6/jCeiZlZ/3xlYmZm2VxMzMwsm4uJmZllczExM7NsLiZmZpbNxcTMzLK5mJiZWTYXEzMzy+ZiYmZm2VxMzMwsm4uJmZllczExM7NsgxYTSSsk7ZS0qRT7W0k/kfSCpAckjU/xaZL+VdKGtNxW6nOapI2SOiXdLEkpfrSktZI2p9cJKa7UrjMd59TSWB2p/WZJHcP5hpiZ2f4bypXJHcDsPrG1wCkR8fvAT4FrSvtejYiZaflSKX4rsAhoTUvvmEuARyOiFXg0bQPMKbVdlPoj6WjgOuAM4HTgut4CZGZm9TFoMYmIJ4BdfWI/iIietLkOmDLQGJImAUdGxFMREcCdwIVp91xgZVpf2Sd+ZxTWAePTOOcCayNiV0TspihsfYudmZmNouH4/0wuB+4pbU+X9DzwDvDViPghMBnoKrXpSjGAlojYDhAR2yUdl+KTgder9Okv/hskLaK4qqGlpYVKpbLfyQF0d3fX3Bdg8YyewRuNgJxzzs25UTVj3s2YMzRn3iOZc1YxkXQt0APclULbgU9HxFuSTgP+UdLJgKp0j8GG76fPkMeKiOXAcoC2trZob28f5JDVVSoVau0LcGnGf3CVY+sl7TX3zc25UTVj3s2YMzRn3iOZc83FJN34vgCYlaauiIj3gffT+nOSXgV+h+LqoTwVNgXYltZ3SJqUrkomATtTvAuYWqVPF9DeJ16pNY+hyvkfD83MxrqaHg2WNBu4GvhcRLxXih8raVxaP4Hi5vmWNI21V9KZ6SmuBcCDqdtqoPeJrI4+8QXpqa4zgT1pnEeAcyRNSDfez0kxMzOrk0GvTCTdTXElMFFSF8WTVNcAhwBr0xO+69KTW58BrpfUA+wDvhQRvTfvr6B4MuxQ4OG0ACwF7pW0EHgNuDjF1wDnAZ3Ae8BlABGxS9INwLOp3fWlY5iZWR0MWkwiYn6V8O39tL0fuL+ffeuBU6rE3wJmVYkHcGU/Y60AVvR/1mZmNpr8CXgzM8vmYmJmZtlcTMzMLJuLiZmZZXMxMTOzbC4mZmaWzcXEzMyyuZiYmVk2FxMzM8vmYmJmZtlcTMzMLJuLiZmZZXMxMTOzbC4mZmaWzcXEzMyyuZiYmVk2FxMzM8vmYmJmZtlcTMzMLNuQiomkFZJ2StpUih0taa2kzel1QopL0s2SOiW9IOnUUp+O1H6zpI5S/DRJG1OfmyWp1mOYmdnoG+qVyR3A7D6xJcCjEdEKPJq2AeYArWlZBNwKRWEArgPOAE4HrustDqnNolK/2bUcw8zM6mNIxSQingB29QnPBVam9ZXAhaX4nVFYB4yXNAk4F1gbEbsiYjewFpid9h0ZEU9FRAB39hlrf45hZmZ1cFBG35aI2A4QEdslHZfik4HXS+26UmygeFeVeC3H2F4+QUmLKK5caGlpoVKp7H+WQHd3N4tn7Kupbz3Vmi8UOef0b1TNmHcz5gzNmfdI5pxTTPqjKrGoIV7LMT4eiFgOLAdoa2uL9vb2QYatrlKpsOzJd2vqW09bL2mvuW+lUqHW96uRNWPezZgzNGfeI5lzztNcO3qnltLrzhTvAqaW2k0Btg0Sn1IlXssxzMysDnKuTFYDHcDS9PpgKX6VpFUUN9v3pCmqR4C/Kd10Pwe4JiJ2Sdor6UzgaWAB8He1HCMjlzFp2pKHau57x+zDhvFMzGysG1IxkXQ30A5MlNRF8VTWUuBeSQuB14CLU/M1wHlAJ/AecBlAKho3AM+mdtdHRO9N/Ssonhg7FHg4LezvMczMrD6GVEwiYn4/u2ZVaRvAlf2MswJYUSW+HjilSvyt/T2GmZmNPn8C3szMsrmYmJlZNhcTMzPL5mJiZmbZXEzMzCybi4mZmWVzMTEzs2wuJmZmls3FxMzMsrmYmJlZNhcTMzPL5mJiZmbZXEzMzCybi4mZmWVzMTEzs2wuJmZmls3FxMzMsrmYmJlZNhcTMzPLVnMxkfS7kjaUlnckfVnS1yS9UYqfV+pzjaROSa9IOrcUn51inZKWlOLTJT0tabOkeyQdnOKHpO3OtH9arXmYmVm+motJRLwSETMjYiZwGvAe8EDafVPvvohYAyDpJGAecDIwG/i2pHGSxgG3AHOAk4D5qS3AN9JYrcBuYGGKLwR2R8SJwE2pnZmZ1clwTXPNAl6NiJ8P0GYusCoi3o+InwGdwOlp6YyILRHxK2AVMFeSgLOB+1L/lcCFpbFWpvX7gFmpvZmZ1cFBwzTOPODu0vZVkhYA64HFEbEbmAysK7XpSjGA1/vEzwCOAd6OiJ4q7Sf39omIHkl7Uvs3yyclaRGwCKClpYVKpVJTct3d3Syesa+mvo2qu7u75verkTVj3s2YMzRn3iOZc3YxSfcxPgdck0K3AjcAkV6XAZcD1a4cgupXRzFAewbZ91EgYjmwHKCtrS3a29v7S2NAlUqFZU++W1PfRnXH7MOo9f1qZJVKpenybsacoTnzHsmch2Oaaw7wo4jYARAROyJiX0R8AHyHYhoLiiuLqaV+U4BtA8TfBMZLOqhP/GNjpf1HAbuGIRczM6vBcBST+ZSmuCRNKu37PLApra8G5qUnsaYDrcAzwLNAa3py62CKKbPVERHA48BFqX8H8GBprI60fhHwWGpvZmZ1kDXNJem3gD8BvlgKf1PSTIppp629+yLiRUn3Ai8BPcCVEbEvjXMV8AgwDlgRES+msa4GVkn6OvA8cHuK3w58V1InxRXJvJw8zMwsT1YxiYj3KG58l2NfGKD9jcCNVeJrgDVV4lv4aJqsHP8lcHENp2xmZiPAn4A3M7NsLiZmZpbNxcTMzLK5mJiZWTYXEzMzy+ZiYmZm2VxMzMwsm4uJmZllczExM7NsLiZmZpbNxcTMzLK5mJiZWbbh+p8WbYzZ+MYeLl3yUM39ty49fxjPxswOdL4yMTOzbC4mZmaWzcXEzMyyuZiYmVk2FxMzM8vmYmJmZtmyi4mkrZI2StogaX2KHS1praTN6XVCikvSzZI6Jb0g6dTSOB2p/WZJHaX4aWn8ztRXAx3DzMxG33BdmfxxRMyMiLa0vQR4NCJagUfTNsAcoDUti4BboSgMwHXAGcDpwHWl4nBratvbb/YgxzAzs1E2UtNcc4GVaX0lcGEpfmcU1gHjJU0CzgXWRsSuiNgNrAVmp31HRsRTERHAnX3GqnYMMzMbZcPxCfgAfiApgP8TEcuBlojYDhAR2yUdl9pOBl4v9e1KsYHiXVXiDHCMD0laRHFVQ0tLC5VKpaYEu7u7WTxjX019G1XLobB4Rk/N/Wt9r+utu7u7Yc+9Vs2YMzRn3iOZ83AUk7MiYlv6Zb5W0k8GaKsqsaghPiSpsC0HaGtri/b29qF2/ZhKpcKyJ9+tqW+jWjyjh2Uba//x2HpJ+/CdzCiqVCrU+nPSqJoxZ2jOvEcy5+xprojYll53Ag9Q3PPYkaaoSK87U/MuYGqp+xRg2yDxKVXiDHAMMzMbZVnFRNJhko7oXQfOATYBq4HeJ7I6gAfT+mpgQXqq60xgT5qqegQ4R9KEdOP9HOCRtG+vpDPTU1wL+oxV7RhmZjbKcqe5WoAH0tO6BwF/HxH/LOlZ4F5JC4HXgItT+zXAeUAn8B5wGUBE7JJ0A/Bsand9ROxK61cAdwCHAg+nBWBpP8cwM7NRllVMImIL8AdV4m8Bs6rEA7iyn7FWACuqxNcDpwz1GGZmNvr8CXgzM8vmYmJmZtlcTMzMLJuLiZmZZXMxMTOzbC4mZmaWzcXEzMyyuZiYmVk2FxMzM8vmYmJmZtlcTMzMLJuLiZmZZXMxMTOzbC4mZmaWzcXEzMyyuZiYmVk2FxMzM8vmYmJmZtlcTMzMLFvNxUTSVEmPS3pZ0ouS/iLFvybpDUkb0nJeqc81kjolvSLp3FJ8dop1SlpSik+X9LSkzZLukXRwih+StjvT/mm15mFmZvlyrkx6gMUR8XvAmcCVkk5K+26KiJlpWQOQ9s0DTgZmA9+WNE7SOOAWYA5wEjC/NM430litwG5gYYovBHZHxInATamdmZnVSc3FJCK2R8SP0vpe4GVg8gBd5gKrIuL9iPgZ0AmcnpbOiNgSEb8CVgFzJQk4G7gv9V8JXFgaa2Vavw+YldqbmVkdHDQcg6Rppj8EngbOAq6StABYT3H1spui0Kwrdevio+Lzep/4GcAxwNsR0VOl/eTePhHRI2lPav9mn/NaBCwCaGlpoVKp1JRfd3c3i2fsq6lvo2o5FBbP6Bm8YT/+7q4Ha+47Y/JRNffN1d3dXfPPSaNqxpyhOfMeyZyzi4mkw4H7gS9HxDuSbgVuACK9LgMuB6pdOQTVr45igPYMsu+jQMRyYDlAW1tbtLe3D5hLfyqVCsuefLemvo1q8Ywelm0clr819t/G2t/rrUvPzzp0pVKh1p+TRtWMOUNz5j2SOWc9zSXpkxSF5K6I+B5AROyIiH0R8QHwHYppLCiuLKaWuk8Btg0QfxMYL+mgPvGPjZX2HwXsysnFzMxql/M0l4DbgZcj4lul+KRSs88Dm9L6amBeehJrOtAKPAM8C7SmJ7cOprhJvzoiAngcuCj17wAeLI3VkdYvAh5L7c3MrA5y5jHOAr4AbJS0IcW+QvE01kyKaaetwBcBIuJFSfcCL1E8CXZlROwDkHQV8AgwDlgRES+m8a4GVkn6OvA8RfEivX5XUifFFcm8jDzMzCxTzcUkIp6k+r2LNQP0uRG4sUp8TbV+EbGFj6bJyvFfAhfvz/mamdnI8Sfgzcwsm4uJmZllczExM7NsdfoggdnImLbkoZr75n5GxayZ+crEzMyyuZiYmVk2FxMzM8vmeyZmw8T3a6yZ+crEzMyyuZiYmVk2FxMzM8vmYmJmZtl8A94smbbkIRbP6OHSjBvpZs3KxcTsAOAnwazReZrLzMyyuZiYmVk2FxMzM8vmYmJmZtlcTMzMLFtDFxNJsyW9IqlT0pJ6n4+ZWbNq2GIiaRxwCzAHOAmYL+mk+p6VmVlzauTPmZwOdEbEFgBJq4C5wEt1PSuzUdaMn1FpxpwPdIqIep9DTSRdBMyOiD9P218AzoiIq0ptFgGL0ubvAq/UeLiJwJsZp9uImjFnaM68mzFnaM68a8n5+Ig4drBGjXxloiqxj1XGiFgOLM8+kLQ+Itpyx2kkzZgzNGfezZgzNGfeI5lzw94zAbqAqaXtKcC2Op2LmVlTa+Ri8izQKmm6pIOBecDqOp+TmVlTathprojokXQV8AgwDlgRES+O0OGyp8oaUDPmDM2ZdzPmDM2Z94jl3LA34M3M7MDRyNNcZmZ2gHAxMTOzbC4mAxhrX9ciaYWknZI2lWJHS1oraXN6nZDiknRzyv0FSaeW+nSk9pslddQjl6GSNFXS45JelvSipL9I8bGe96ckPSPpxynvv07x6ZKeTjnckx5eQdIhabsz7Z9WGuuaFH9F0rn1yWjoJI2T9Lyk76ftMZ2zpK2SNkraIGl9io3+z3dEeKmyUNzUfxU4ATgY+DFwUr3PKzOnzwCnAptKsW8CS9L6EuAbaf084GGKz/OcCTyd4kcDW9LrhLQ+od65DZDzJODUtH4E8FOKr98Z63kLODytfxJ4OuVzLzAvxW8Drkjr/wW4La3PA+5J6yeln/1DgOnp38S4euc3SO5/Cfw98P20PaZzBrYCE/vERv3n21cm/fvw61oi4ldA79e1NKyIeALY1Sc8F1iZ1lcCF5bid0ZhHTBe0iTgXGBtROyKiN3AWmD2yJ99bSJie0T8KK3vBV4GJjP2846I6E6bn0xLAGcD96V437x734/7gFmSlOKrIuL9iPgZ0Enxb+OAJGkKcD7wf9O2GOM592PUf75dTPo3GXi9tN2VYmNNS0Rsh+IXL3BciveXf8O+L2ka4w8p/kof83mn6Z4NwE6KXw6vAm9HRE9qUs7hw/zS/j3AMTRe3v8L+Cvgg7R9DGM/5wB+IOk5FV8hBXX4+W7Yz5mMgkG/rmWM6y//hnxfJB0O3A98OSLeKf4Ard60Sqwh846IfcBMSeOBB4Dfq9YsvTZ83pIuAHZGxHOS2nvDVZqOmZyTsyJim6TjgLWSfjJA2xHL2Vcm/WuWr2vZkS5zSa87U7y//BvufZH0SYpCcldEfC+Fx3zevSLibaBCMUc+XlLvH5HlHD7ML+0/imJKtJHyPgv4nKStFNPSZ1NcqYzlnImIbel1J8UfDadTh59vF5P+NcvXtawGep/c6AAeLMUXpKc/zgT2pMvlR4BzJE1IT4ick2IHpDQHfjvwckR8q7RrrOd9bLoiQdKhwGcp7hc9DlyUmvXNu/f9uAh4LIo7s6uBeenJp+lAK/DM6GSxfyLimoiYEhHTKP69PhYRlzCGc5Z0mKQjetcpfi43UY+f73o/iXAgLxRPPvyUYq752nqfzzDkczewHfg1xV8iCynmiB8FNqfXo1NbUfznY68CG4G20jiXU9yU7AQuq3deg+T87yku118ANqTlvCbI+/eB51Pem4D/keInUPxi7AT+ATgkxT+VtjvT/hNKY12b3o9XgDn1zm2I+bfz0dNcYzbnlNuP0/Ji7++pevx8++tUzMwsm6e5zMwsm4uJmZllczExM7NsLiZmZpbNxcTMzLK5mJiZWTYXEzMzy/b/ARyuVfyETsp7AAAAAElFTkSuQmCC\n",
>>>>>>> 1a334d0093fcda99b0a523163172a42b8bc84239
      "text/plain": [
       "<Figure size 432x288 with 1 Axes>"
      ]
     },
<<<<<<< HEAD
     "metadata": {},
=======
     "metadata": {
      "needs_background": "light"
     },
>>>>>>> 1a334d0093fcda99b0a523163172a42b8bc84239
     "output_type": "display_data"
    }
   ],
   "source": [
    "flights_df.hist('Distance', bins=20);"
   ]
  },
  {
   "cell_type": "markdown",
   "metadata": {},
   "source": [
    "**Making a histogram of flight frequency by date.**"
   ]
  },
  {
   "cell_type": "code",
<<<<<<< HEAD
   "execution_count": 11,
=======
   "execution_count": 16,
>>>>>>> 1a334d0093fcda99b0a523163172a42b8bc84239
   "metadata": {},
   "outputs": [],
   "source": [
    "flights_df['Date'] = pd.to_datetime(flights_df.rename(columns={'DayofMonth': 'Day'})[['Year', 'Month', 'Day']])"
   ]
  },
  {
   "cell_type": "code",
   "execution_count": 17,
   "metadata": {},
   "outputs": [],
   "source": [
    "num_flights_by_date = flights_df.groupby('Date').size()"
   ]
  },
  {
   "cell_type": "code",
   "execution_count": 18,
   "metadata": {
<<<<<<< HEAD
    "collapsed": true
=======
    "scrolled": true
>>>>>>> 1a334d0093fcda99b0a523163172a42b8bc84239
   },
   "outputs": [
    {
     "data": {
      "image/png": "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\n",
      "text/plain": [
       "<Figure size 432x288 with 1 Axes>"
      ]
     },
     "metadata": {
      "needs_background": "light"
     },
     "output_type": "display_data"
    }
   ],
   "source": [
    "num_flights_by_date.plot();"
   ]
  },
  {
   "cell_type": "markdown",
   "metadata": {},
   "source": [
    "**Do you see a weekly pattern above? And below?**"
   ]
  },
  {
   "cell_type": "code",
   "execution_count": 19,
<<<<<<< HEAD
   "metadata": {
    "collapsed": true
   },
=======
   "metadata": {},
>>>>>>> 1a334d0093fcda99b0a523163172a42b8bc84239
   "outputs": [
    {
     "data": {
      "image/png": "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\n",
      "text/plain": [
       "<Figure size 432x288 with 1 Axes>"
      ]
     },
     "metadata": {
      "needs_background": "light"
     },
     "output_type": "display_data"
    }
   ],
   "source": [
    "num_flights_by_date.rolling(window=7).mean().plot();"
   ]
  },
  {
   "cell_type": "markdown",
   "metadata": {},
   "source": [
    "**1. Find top-10 carriers in terms of the number of completed flights (_UniqueCarrier_ column)?**\n",
    "\n",
    "**Which of the listed below is _not_ in your top-10 list?**\n",
    "- DL\n",
    "- AA\n",
    "- OO\n",
    "- EV "
   ]
  },
  {
   "cell_type": "code",
<<<<<<< HEAD
   "execution_count": 17,
   "metadata": {
    "collapsed": true
   },
   "outputs": [
    {
     "data": {
      "text/html": [
       "<div>\n",
       "<style scoped>\n",
       "    .dataframe tbody tr th:only-of-type {\n",
       "        vertical-align: middle;\n",
       "    }\n",
       "\n",
       "    .dataframe tbody tr th {\n",
       "        vertical-align: top;\n",
       "    }\n",
       "\n",
       "    .dataframe thead th {\n",
       "        text-align: right;\n",
       "    }\n",
       "</style>\n",
       "<table border=\"1\" class=\"dataframe\">\n",
       "  <thead>\n",
       "    <tr style=\"text-align: right;\">\n",
       "      <th></th>\n",
       "      <th>Year</th>\n",
       "      <th>Month</th>\n",
       "      <th>DayofMonth</th>\n",
       "      <th>DayOfWeek</th>\n",
       "      <th>DepTime</th>\n",
       "      <th>UniqueCarrier</th>\n",
       "      <th>FlightNum</th>\n",
       "      <th>ArrDelay</th>\n",
       "      <th>DepDelay</th>\n",
       "      <th>Origin</th>\n",
       "      <th>Dest</th>\n",
       "      <th>Distance</th>\n",
       "      <th>Cancelled</th>\n",
       "      <th>CancellationCode</th>\n",
       "      <th>CarrierDelay</th>\n",
       "      <th>WeatherDelay</th>\n",
       "      <th>NASDelay</th>\n",
       "      <th>SecurityDelay</th>\n",
       "      <th>LateAircraftDelay</th>\n",
       "      <th>Date</th>\n",
       "    </tr>\n",
       "  </thead>\n",
       "  <tbody>\n",
       "    <tr>\n",
       "      <th>0</th>\n",
       "      <td>2008</td>\n",
       "      <td>1</td>\n",
       "      <td>3</td>\n",
       "      <td>4</td>\n",
       "      <td>2003.0</td>\n",
       "      <td>WN</td>\n",
       "      <td>335</td>\n",
       "      <td>-14.0</td>\n",
       "      <td>8.0</td>\n",
       "      <td>IAD</td>\n",
       "      <td>TPA</td>\n",
       "      <td>810</td>\n",
       "      <td>0</td>\n",
       "      <td>NaN</td>\n",
       "      <td>NaN</td>\n",
       "      <td>NaN</td>\n",
       "      <td>NaN</td>\n",
       "      <td>NaN</td>\n",
       "      <td>NaN</td>\n",
       "      <td>2008-01-03</td>\n",
       "    </tr>\n",
       "    <tr>\n",
       "      <th>1</th>\n",
       "      <td>2008</td>\n",
       "      <td>1</td>\n",
       "      <td>3</td>\n",
       "      <td>4</td>\n",
       "      <td>754.0</td>\n",
       "      <td>WN</td>\n",
       "      <td>3231</td>\n",
       "      <td>2.0</td>\n",
       "      <td>19.0</td>\n",
       "      <td>IAD</td>\n",
       "      <td>TPA</td>\n",
       "      <td>810</td>\n",
       "      <td>0</td>\n",
       "      <td>NaN</td>\n",
       "      <td>NaN</td>\n",
       "      <td>NaN</td>\n",
       "      <td>NaN</td>\n",
       "      <td>NaN</td>\n",
       "      <td>NaN</td>\n",
       "      <td>2008-01-03</td>\n",
       "    </tr>\n",
       "    <tr>\n",
       "      <th>2</th>\n",
       "      <td>2008</td>\n",
       "      <td>1</td>\n",
       "      <td>3</td>\n",
       "      <td>4</td>\n",
       "      <td>628.0</td>\n",
       "      <td>WN</td>\n",
       "      <td>448</td>\n",
       "      <td>14.0</td>\n",
       "      <td>8.0</td>\n",
       "      <td>IND</td>\n",
       "      <td>BWI</td>\n",
       "      <td>515</td>\n",
       "      <td>0</td>\n",
       "      <td>NaN</td>\n",
       "      <td>NaN</td>\n",
       "      <td>NaN</td>\n",
       "      <td>NaN</td>\n",
       "      <td>NaN</td>\n",
       "      <td>NaN</td>\n",
       "      <td>2008-01-03</td>\n",
       "    </tr>\n",
       "    <tr>\n",
       "      <th>3</th>\n",
       "      <td>2008</td>\n",
       "      <td>1</td>\n",
       "      <td>3</td>\n",
       "      <td>4</td>\n",
       "      <td>926.0</td>\n",
       "      <td>WN</td>\n",
       "      <td>1746</td>\n",
       "      <td>-6.0</td>\n",
       "      <td>-4.0</td>\n",
       "      <td>IND</td>\n",
       "      <td>BWI</td>\n",
       "      <td>515</td>\n",
       "      <td>0</td>\n",
       "      <td>NaN</td>\n",
       "      <td>NaN</td>\n",
       "      <td>NaN</td>\n",
       "      <td>NaN</td>\n",
       "      <td>NaN</td>\n",
       "      <td>NaN</td>\n",
       "      <td>2008-01-03</td>\n",
       "    </tr>\n",
       "    <tr>\n",
       "      <th>4</th>\n",
       "      <td>2008</td>\n",
       "      <td>1</td>\n",
       "      <td>3</td>\n",
       "      <td>4</td>\n",
       "      <td>1829.0</td>\n",
       "      <td>WN</td>\n",
       "      <td>3920</td>\n",
       "      <td>34.0</td>\n",
       "      <td>34.0</td>\n",
       "      <td>IND</td>\n",
       "      <td>BWI</td>\n",
       "      <td>515</td>\n",
       "      <td>0</td>\n",
       "      <td>NaN</td>\n",
       "      <td>2.0</td>\n",
       "      <td>0.0</td>\n",
       "      <td>0.0</td>\n",
       "      <td>0.0</td>\n",
       "      <td>32.0</td>\n",
       "      <td>2008-01-03</td>\n",
       "    </tr>\n",
       "  </tbody>\n",
       "</table>\n",
       "</div>"
      ],
      "text/plain": [
       "   Year  Month  DayofMonth  DayOfWeek  DepTime UniqueCarrier  FlightNum  \\\n",
       "0  2008      1           3          4   2003.0            WN        335   \n",
       "1  2008      1           3          4    754.0            WN       3231   \n",
       "2  2008      1           3          4    628.0            WN        448   \n",
       "3  2008      1           3          4    926.0            WN       1746   \n",
       "4  2008      1           3          4   1829.0            WN       3920   \n",
       "\n",
       "   ArrDelay  DepDelay Origin Dest  Distance  Cancelled CancellationCode  \\\n",
       "0     -14.0       8.0    IAD  TPA       810          0              NaN   \n",
       "1       2.0      19.0    IAD  TPA       810          0              NaN   \n",
       "2      14.0       8.0    IND  BWI       515          0              NaN   \n",
       "3      -6.0      -4.0    IND  BWI       515          0              NaN   \n",
       "4      34.0      34.0    IND  BWI       515          0              NaN   \n",
       "\n",
       "   CarrierDelay  WeatherDelay  NASDelay  SecurityDelay  LateAircraftDelay  \\\n",
       "0           NaN           NaN       NaN            NaN                NaN   \n",
       "1           NaN           NaN       NaN            NaN                NaN   \n",
       "2           NaN           NaN       NaN            NaN                NaN   \n",
       "3           NaN           NaN       NaN            NaN                NaN   \n",
       "4           2.0           0.0       0.0            0.0               32.0   \n",
       "\n",
       "        Date  \n",
       "0 2008-01-03  \n",
       "1 2008-01-03  \n",
       "2 2008-01-03  \n",
       "3 2008-01-03  \n",
       "4 2008-01-03  "
      ]
     },
     "execution_count": 17,
     "metadata": {},
     "output_type": "execute_result"
    }
   ],
   "source": [
    "flights_df.head()"
   ]
  },
  {
   "cell_type": "code",
   "execution_count": 37,
   "metadata": {},
   "outputs": [
    {
     "name": "stdout",
     "output_type": "stream",
     "text": [
      "{'EV'}\n"
     ]
    }
   ],
   "source": [
    "unique = flights_df.groupby('UniqueCarrier').agg({\n",
    "    'Cancelled' : 'sum',\n",
    "    'FlightNum' : 'count'\n",
    "}).reset_index()\n",
    "unique['total'] = unique.FlightNum - unique.Cancelled # total completed flights = total flights - cancelled flights\n",
    "a = set(unique.sort_values(by=['total'], ascending = False).head(10)['UniqueCarrier']) # set of top 10 uniquecarriers \n",
    "\n",
    "check_list = {'DL','AA','OO','EV'} #options\n",
    "print (check_list - a) # not in options"
=======
   "execution_count": 16,
   "metadata": {},
   "outputs": [],
   "source": [
    "# You code here"
>>>>>>> 1a334d0093fcda99b0a523163172a42b8bc84239
   ]
  },
  {
   "cell_type": "markdown",
   "metadata": {},
   "source": [
    "**2. Plot distributions of flight cancellation reasons (_CancellationCode_).**\n",
    "\n",
    "**What is the most frequent reason for flight cancellation? (Use this [link](https://www.transtats.bts.gov/Fields.asp?Table_ID=236) to translate codes into reasons)**\n",
    "- carrier\n",
    "- weather conditions \n",
    "- National Air System\n",
    "- security reasons"
   ]
  },
  {
   "cell_type": "code",
<<<<<<< HEAD
   "execution_count": 59,
   "metadata": {},
   "outputs": [
    {
     "data": {
      "text/html": [
       "<div>\n",
       "<style scoped>\n",
       "    .dataframe tbody tr th:only-of-type {\n",
       "        vertical-align: middle;\n",
       "    }\n",
       "\n",
       "    .dataframe tbody tr th {\n",
       "        vertical-align: top;\n",
       "    }\n",
       "\n",
       "    .dataframe thead th {\n",
       "        text-align: right;\n",
       "    }\n",
       "</style>\n",
       "<table border=\"1\" class=\"dataframe\">\n",
       "  <thead>\n",
       "    <tr style=\"text-align: right;\">\n",
       "      <th></th>\n",
       "      <th>FlightNum</th>\n",
       "    </tr>\n",
       "    <tr>\n",
       "      <th>CancellationCode</th>\n",
       "      <th></th>\n",
       "    </tr>\n",
       "  </thead>\n",
       "  <tbody>\n",
       "    <tr>\n",
       "      <th>B</th>\n",
       "      <td>54904</td>\n",
       "    </tr>\n",
       "    <tr>\n",
       "      <th>A</th>\n",
       "      <td>54330</td>\n",
       "    </tr>\n",
       "    <tr>\n",
       "      <th>C</th>\n",
       "      <td>28188</td>\n",
       "    </tr>\n",
       "    <tr>\n",
       "      <th>D</th>\n",
       "      <td>12</td>\n",
       "    </tr>\n",
       "  </tbody>\n",
       "</table>\n",
       "</div>"
      ],
      "text/plain": [
       "                  FlightNum\n",
       "CancellationCode           \n",
       "B                     54904\n",
       "A                     54330\n",
       "C                     28188\n",
       "D                        12"
      ]
     },
     "execution_count": 59,
     "metadata": {},
     "output_type": "execute_result"
    }
   ],
   "source": [
    "flights_df.groupby(\"CancellationCode\").agg({\"FlightNum\":'count'}).sort_values('FlightNum', ascending = False)"
   ]
  },
  {
   "cell_type": "code",
   "execution_count": 60,
   "metadata": {},
   "outputs": [
    {
     "name": "stdout",
     "output_type": "stream",
     "text": [
      "weather\n"
     ]
    }
   ],
   "source": [
    "#conversion of B is weather\n",
    "print ('weather')"
   ]
  },
  {
   "cell_type": "markdown",
   "metadata": {},
   "source": [
    "**3. Which route is the most frequent, in terms of the number of flights?**\n",
    "\n",
    "(Take a look at _'Origin'_ and _'Dest'_ features. Consider _A->B_ and _B->A_ directions as _different_ routes) \n",
    "\n",
    " - New-York – Washington\n",
    " - San-Francisco – Los-Angeles \n",
    " - San-Jose – Dallas\n",
    " - New-York – San-Francisco"
   ]
  },
  {
   "cell_type": "code",
   "execution_count": 61,
   "metadata": {
    "collapsed": true
   },
   "outputs": [
    {
     "data": {
      "text/html": [
       "<div>\n",
       "<style scoped>\n",
       "    .dataframe tbody tr th:only-of-type {\n",
       "        vertical-align: middle;\n",
       "    }\n",
       "\n",
       "    .dataframe tbody tr th {\n",
       "        vertical-align: top;\n",
       "    }\n",
       "\n",
       "    .dataframe thead th {\n",
       "        text-align: right;\n",
       "    }\n",
       "</style>\n",
       "<table border=\"1\" class=\"dataframe\">\n",
       "  <thead>\n",
       "    <tr style=\"text-align: right;\">\n",
       "      <th></th>\n",
       "      <th>Year</th>\n",
       "      <th>Month</th>\n",
       "      <th>DayofMonth</th>\n",
       "      <th>DayOfWeek</th>\n",
       "      <th>DepTime</th>\n",
       "      <th>UniqueCarrier</th>\n",
       "      <th>FlightNum</th>\n",
       "      <th>ArrDelay</th>\n",
       "      <th>DepDelay</th>\n",
       "      <th>Origin</th>\n",
       "      <th>Dest</th>\n",
       "      <th>Distance</th>\n",
       "      <th>Cancelled</th>\n",
       "      <th>CancellationCode</th>\n",
       "      <th>CarrierDelay</th>\n",
       "      <th>WeatherDelay</th>\n",
       "      <th>NASDelay</th>\n",
       "      <th>SecurityDelay</th>\n",
       "      <th>LateAircraftDelay</th>\n",
       "      <th>Date</th>\n",
       "    </tr>\n",
       "  </thead>\n",
       "  <tbody>\n",
       "    <tr>\n",
       "      <th>0</th>\n",
       "      <td>2008</td>\n",
       "      <td>1</td>\n",
       "      <td>3</td>\n",
       "      <td>4</td>\n",
       "      <td>2003.0</td>\n",
       "      <td>WN</td>\n",
       "      <td>335</td>\n",
       "      <td>-14.0</td>\n",
       "      <td>8.0</td>\n",
       "      <td>IAD</td>\n",
       "      <td>TPA</td>\n",
       "      <td>810</td>\n",
       "      <td>0</td>\n",
       "      <td>NaN</td>\n",
       "      <td>NaN</td>\n",
       "      <td>NaN</td>\n",
       "      <td>NaN</td>\n",
       "      <td>NaN</td>\n",
       "      <td>NaN</td>\n",
       "      <td>2008-01-03</td>\n",
       "    </tr>\n",
       "    <tr>\n",
       "      <th>1</th>\n",
       "      <td>2008</td>\n",
       "      <td>1</td>\n",
       "      <td>3</td>\n",
       "      <td>4</td>\n",
       "      <td>754.0</td>\n",
       "      <td>WN</td>\n",
       "      <td>3231</td>\n",
       "      <td>2.0</td>\n",
       "      <td>19.0</td>\n",
       "      <td>IAD</td>\n",
       "      <td>TPA</td>\n",
       "      <td>810</td>\n",
       "      <td>0</td>\n",
       "      <td>NaN</td>\n",
       "      <td>NaN</td>\n",
       "      <td>NaN</td>\n",
       "      <td>NaN</td>\n",
       "      <td>NaN</td>\n",
       "      <td>NaN</td>\n",
       "      <td>2008-01-03</td>\n",
       "    </tr>\n",
       "    <tr>\n",
       "      <th>2</th>\n",
       "      <td>2008</td>\n",
       "      <td>1</td>\n",
       "      <td>3</td>\n",
       "      <td>4</td>\n",
       "      <td>628.0</td>\n",
       "      <td>WN</td>\n",
       "      <td>448</td>\n",
       "      <td>14.0</td>\n",
       "      <td>8.0</td>\n",
       "      <td>IND</td>\n",
       "      <td>BWI</td>\n",
       "      <td>515</td>\n",
       "      <td>0</td>\n",
       "      <td>NaN</td>\n",
       "      <td>NaN</td>\n",
       "      <td>NaN</td>\n",
       "      <td>NaN</td>\n",
       "      <td>NaN</td>\n",
       "      <td>NaN</td>\n",
       "      <td>2008-01-03</td>\n",
       "    </tr>\n",
       "    <tr>\n",
       "      <th>3</th>\n",
       "      <td>2008</td>\n",
       "      <td>1</td>\n",
       "      <td>3</td>\n",
       "      <td>4</td>\n",
       "      <td>926.0</td>\n",
       "      <td>WN</td>\n",
       "      <td>1746</td>\n",
       "      <td>-6.0</td>\n",
       "      <td>-4.0</td>\n",
       "      <td>IND</td>\n",
       "      <td>BWI</td>\n",
       "      <td>515</td>\n",
       "      <td>0</td>\n",
       "      <td>NaN</td>\n",
       "      <td>NaN</td>\n",
       "      <td>NaN</td>\n",
       "      <td>NaN</td>\n",
       "      <td>NaN</td>\n",
       "      <td>NaN</td>\n",
       "      <td>2008-01-03</td>\n",
       "    </tr>\n",
       "    <tr>\n",
       "      <th>4</th>\n",
       "      <td>2008</td>\n",
       "      <td>1</td>\n",
       "      <td>3</td>\n",
       "      <td>4</td>\n",
       "      <td>1829.0</td>\n",
       "      <td>WN</td>\n",
       "      <td>3920</td>\n",
       "      <td>34.0</td>\n",
       "      <td>34.0</td>\n",
       "      <td>IND</td>\n",
       "      <td>BWI</td>\n",
       "      <td>515</td>\n",
       "      <td>0</td>\n",
       "      <td>NaN</td>\n",
       "      <td>2.0</td>\n",
       "      <td>0.0</td>\n",
       "      <td>0.0</td>\n",
       "      <td>0.0</td>\n",
       "      <td>32.0</td>\n",
       "      <td>2008-01-03</td>\n",
       "    </tr>\n",
       "  </tbody>\n",
       "</table>\n",
       "</div>"
      ],
      "text/plain": [
       "   Year  Month  DayofMonth  DayOfWeek  DepTime UniqueCarrier  FlightNum  \\\n",
       "0  2008      1           3          4   2003.0            WN        335   \n",
       "1  2008      1           3          4    754.0            WN       3231   \n",
       "2  2008      1           3          4    628.0            WN        448   \n",
       "3  2008      1           3          4    926.0            WN       1746   \n",
       "4  2008      1           3          4   1829.0            WN       3920   \n",
       "\n",
       "   ArrDelay  DepDelay Origin Dest  Distance  Cancelled CancellationCode  \\\n",
       "0     -14.0       8.0    IAD  TPA       810          0              NaN   \n",
       "1       2.0      19.0    IAD  TPA       810          0              NaN   \n",
       "2      14.0       8.0    IND  BWI       515          0              NaN   \n",
       "3      -6.0      -4.0    IND  BWI       515          0              NaN   \n",
       "4      34.0      34.0    IND  BWI       515          0              NaN   \n",
       "\n",
       "   CarrierDelay  WeatherDelay  NASDelay  SecurityDelay  LateAircraftDelay  \\\n",
       "0           NaN           NaN       NaN            NaN                NaN   \n",
       "1           NaN           NaN       NaN            NaN                NaN   \n",
       "2           NaN           NaN       NaN            NaN                NaN   \n",
       "3           NaN           NaN       NaN            NaN                NaN   \n",
       "4           2.0           0.0       0.0            0.0               32.0   \n",
       "\n",
       "        Date  \n",
       "0 2008-01-03  \n",
       "1 2008-01-03  \n",
       "2 2008-01-03  \n",
       "3 2008-01-03  \n",
       "4 2008-01-03  "
      ]
     },
     "execution_count": 61,
     "metadata": {},
     "output_type": "execute_result"
    }
   ],
   "source": [
    "flights_df.head()"
   ]
  },
  {
   "cell_type": "code",
   "execution_count": 76,
   "metadata": {
    "scrolled": true
   },
   "outputs": [
    {
     "data": {
      "text/html": [
       "<div>\n",
       "<style scoped>\n",
       "    .dataframe tbody tr th:only-of-type {\n",
       "        vertical-align: middle;\n",
       "    }\n",
       "\n",
       "    .dataframe tbody tr th {\n",
       "        vertical-align: top;\n",
       "    }\n",
       "\n",
       "    .dataframe thead th {\n",
       "        text-align: right;\n",
       "    }\n",
       "</style>\n",
       "<table border=\"1\" class=\"dataframe\">\n",
       "  <thead>\n",
       "    <tr style=\"text-align: right;\">\n",
       "      <th></th>\n",
       "      <th>Origin</th>\n",
       "      <th>Dest</th>\n",
       "      <th>UniqueCarrier</th>\n",
       "    </tr>\n",
       "  </thead>\n",
       "  <tbody>\n",
       "    <tr>\n",
       "      <th>4746</th>\n",
       "      <td>SFO</td>\n",
       "      <td>LAX</td>\n",
       "      <td>13788</td>\n",
       "    </tr>\n",
       "    <tr>\n",
       "      <th>2786</th>\n",
       "      <td>LAX</td>\n",
       "      <td>SFO</td>\n",
       "      <td>13390</td>\n",
       "    </tr>\n",
       "    <tr>\n",
       "      <th>3682</th>\n",
       "      <td>OGG</td>\n",
       "      <td>HNL</td>\n",
       "      <td>12383</td>\n",
       "    </tr>\n",
       "    <tr>\n",
       "      <th>2829</th>\n",
       "      <td>LGA</td>\n",
       "      <td>BOS</td>\n",
       "      <td>12035</td>\n",
       "    </tr>\n",
       "    <tr>\n",
       "      <th>588</th>\n",
       "      <td>BOS</td>\n",
       "      <td>LGA</td>\n",
       "      <td>12029</td>\n",
       "    </tr>\n",
       "  </tbody>\n",
       "</table>\n",
       "</div>"
      ],
      "text/plain": [
       "     Origin Dest  UniqueCarrier\n",
       "4746    SFO  LAX          13788\n",
       "2786    LAX  SFO          13390\n",
       "3682    OGG  HNL          12383\n",
       "2829    LGA  BOS          12035\n",
       "588     BOS  LGA          12029"
      ]
     },
     "execution_count": 76,
     "metadata": {},
     "output_type": "execute_result"
    }
   ],
   "source": [
    "flights_df.groupby(['Origin','Dest']).agg({'UniqueCarrier':'count'}).reset_index().sort_values('UniqueCarrier', ascending = False).head()"
   ]
  },
  {
   "cell_type": "code",
   "execution_count": 77,
   "metadata": {},
   "outputs": [
    {
     "name": "stdout",
     "output_type": "stream",
     "text": [
      "SFO\tLAX\t13788\n"
     ]
    }
   ],
   "source": [
    "print('SFO\tLAX\t13788')"
   ]
  },
  {
   "cell_type": "markdown",
   "metadata": {},
   "source": [
    "**4. Find top-5 delayed routes (count how many times they were delayed on departure). From all flights on these 5 routes, count all flights with weather conditions contributing to a delay.**\n",
    "\n",
    "- 449 \n",
    "- 539 \n",
    "- 549 \n",
    "- 668 "
   ]
  },
  {
   "cell_type": "code",
   "execution_count": 32,
   "metadata": {},
   "outputs": [],
   "source": [
    "def count_d(s):\n",
    "    return (s.fillna(0)>0).sum()\n",
    "    "
   ]
  },
  {
   "cell_type": "code",
   "execution_count": 33,
   "metadata": {},
   "outputs": [
    {
     "data": {
      "text/plain": [
       "668.0"
      ]
     },
     "execution_count": 33,
     "metadata": {},
     "output_type": "execute_result"
    }
   ],
   "source": [
    "# delayed flights\n",
    "a = flights_df[flights_df.DepDelay > 0].groupby(['Origin','Dest']).agg({\n",
    "    'DepDelay':count_d,\n",
    "    'WeatherDelay' : count_d,\n",
    "    'UniqueCarrier': 'count'\n",
    "}).reset_index().sort_values('DepDelay', ascending = False).head(5)\n",
    "\n",
    "a.WeatherDelay.sum()"
   ]
  },
  {
   "cell_type": "markdown",
   "metadata": {},
   "source": [
    "**5. Examine the hourly distribution of departure times. For that, create a new series from DepTime, removing missing values.**\n",
    "\n",
    "**Choose all correct statements:**\n",
    " - Flights are normally distributed within time interval [0-23] (Search for: Normal distribution, bell curve).\n",
    " - Flights are uniformly distributed within time interval [0-23].\n",
    " - In the period from 0 am to 4 am there are considerably less flights than from 7 pm to 8 pm."
   ]
  },
  {
   "cell_type": "code",
   "execution_count": 6,
   "metadata": {},
   "outputs": [
    {
     "data": {
      "text/plain": [
       "<matplotlib.axes._subplots.AxesSubplot at 0x1a1158f2b0>"
      ]
     },
     "execution_count": 6,
     "metadata": {},
     "output_type": "execute_result"
    },
    {
     "data": {
      "image/png": "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\n",
      "text/plain": [
       "<Figure size 432x288 with 1 Axes>"
      ]
     },
     "metadata": {},
     "output_type": "display_data"
    }
   ],
   "source": [
    "# You code here\n",
    "c = flights_df.DepTime.fillna(2500).apply(lambda x: int(x/100))\n",
    "c.hist()"
   ]
  },
  {
   "cell_type": "code",
   "execution_count": 7,
   "metadata": {},
   "outputs": [
    {
     "data": {
      "image/png": "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\n",
      "text/plain": [
       "<Figure size 432x288 with 1 Axes>"
      ]
     },
     "metadata": {},
     "output_type": "display_data"
    }
   ],
   "source": [
    "c.plot(kind='density');"
   ]
  },
  {
   "cell_type": "code",
   "execution_count": 8,
   "metadata": {},
   "outputs": [
    {
     "name": "stderr",
     "output_type": "stream",
     "text": [
      "/Users/manghat/anaconda3/lib/python3.6/site-packages/matplotlib/axes/_axes.py:6462: UserWarning: The 'normed' kwarg is deprecated, and has been replaced by the 'density' kwarg.\n",
      "  warnings.warn(\"The 'normed' kwarg is deprecated, and has been \"\n"
     ]
    },
    {
     "data": {
      "text/plain": [
       "<matplotlib.axes._subplots.AxesSubplot at 0x1a1d785710>"
      ]
     },
     "execution_count": 8,
     "metadata": {},
     "output_type": "execute_result"
    },
    {
     "data": {
      "image/png": "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\n",
      "text/plain": [
       "<Figure size 432x288 with 1 Axes>"
      ]
     },
     "metadata": {},
     "output_type": "display_data"
    }
   ],
   "source": [
    "sns.distplot(c)"
   ]
  },
  {
   "cell_type": "code",
   "execution_count": 9,
   "metadata": {},
   "outputs": [
    {
     "data": {
      "text/plain": [
       "<matplotlib.axes._subplots.AxesSubplot at 0x1a1d7f00f0>"
      ]
     },
     "execution_count": 9,
     "metadata": {},
     "output_type": "execute_result"
    },
    {
     "data": {
      "image/png": "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\n",
      "text/plain": [
       "<Figure size 432x288 with 1 Axes>"
      ]
     },
     "metadata": {},
     "output_type": "display_data"
    }
   ],
   "source": [
    "sns.countplot(c)"
   ]
  },
  {
   "cell_type": "markdown",
   "metadata": {},
   "source": [
    "**6. Show how the number of flights changes through time (on the daily/weekly/monthly basis) and interpret the findings.**\n",
    "\n",
    "**Choose all correct statements:**\n",
    "- The number of flights during weekends is less than during weekdays (working days).\n",
    "- The lowest number of flights is on Sunday.\n",
    "- There are less flights during winter than during summer.  "
   ]
  },
  {
   "cell_type": "code",
   "execution_count": 10,
   "metadata": {},
   "outputs": [
    {
     "data": {
      "text/html": [
       "<div>\n",
       "<style scoped>\n",
       "    .dataframe tbody tr th:only-of-type {\n",
       "        vertical-align: middle;\n",
       "    }\n",
       "\n",
       "    .dataframe tbody tr th {\n",
       "        vertical-align: top;\n",
       "    }\n",
       "\n",
       "    .dataframe thead th {\n",
       "        text-align: right;\n",
       "    }\n",
       "</style>\n",
       "<table border=\"1\" class=\"dataframe\">\n",
       "  <thead>\n",
       "    <tr style=\"text-align: right;\">\n",
       "      <th></th>\n",
       "      <th>Year</th>\n",
       "      <th>Month</th>\n",
       "      <th>DayofMonth</th>\n",
       "      <th>DayOfWeek</th>\n",
       "      <th>DepTime</th>\n",
       "      <th>UniqueCarrier</th>\n",
       "      <th>FlightNum</th>\n",
       "      <th>ArrDelay</th>\n",
       "      <th>DepDelay</th>\n",
       "      <th>Origin</th>\n",
       "      <th>Dest</th>\n",
       "      <th>Distance</th>\n",
       "      <th>Cancelled</th>\n",
       "      <th>CancellationCode</th>\n",
       "      <th>CarrierDelay</th>\n",
       "      <th>WeatherDelay</th>\n",
       "      <th>NASDelay</th>\n",
       "      <th>SecurityDelay</th>\n",
       "      <th>LateAircraftDelay</th>\n",
       "    </tr>\n",
       "  </thead>\n",
       "  <tbody>\n",
       "    <tr>\n",
       "      <th>0</th>\n",
       "      <td>2008</td>\n",
       "      <td>1</td>\n",
       "      <td>3</td>\n",
       "      <td>4</td>\n",
       "      <td>2003.0</td>\n",
       "      <td>WN</td>\n",
       "      <td>335</td>\n",
       "      <td>-14.0</td>\n",
       "      <td>8.0</td>\n",
       "      <td>IAD</td>\n",
       "      <td>TPA</td>\n",
       "      <td>810</td>\n",
       "      <td>0</td>\n",
       "      <td>NaN</td>\n",
       "      <td>NaN</td>\n",
       "      <td>NaN</td>\n",
       "      <td>NaN</td>\n",
       "      <td>NaN</td>\n",
       "      <td>NaN</td>\n",
       "    </tr>\n",
       "    <tr>\n",
       "      <th>1</th>\n",
       "      <td>2008</td>\n",
       "      <td>1</td>\n",
       "      <td>3</td>\n",
       "      <td>4</td>\n",
       "      <td>754.0</td>\n",
       "      <td>WN</td>\n",
       "      <td>3231</td>\n",
       "      <td>2.0</td>\n",
       "      <td>19.0</td>\n",
       "      <td>IAD</td>\n",
       "      <td>TPA</td>\n",
       "      <td>810</td>\n",
       "      <td>0</td>\n",
       "      <td>NaN</td>\n",
       "      <td>NaN</td>\n",
       "      <td>NaN</td>\n",
       "      <td>NaN</td>\n",
       "      <td>NaN</td>\n",
       "      <td>NaN</td>\n",
       "    </tr>\n",
       "    <tr>\n",
       "      <th>2</th>\n",
       "      <td>2008</td>\n",
       "      <td>1</td>\n",
       "      <td>3</td>\n",
       "      <td>4</td>\n",
       "      <td>628.0</td>\n",
       "      <td>WN</td>\n",
       "      <td>448</td>\n",
       "      <td>14.0</td>\n",
       "      <td>8.0</td>\n",
       "      <td>IND</td>\n",
       "      <td>BWI</td>\n",
       "      <td>515</td>\n",
       "      <td>0</td>\n",
       "      <td>NaN</td>\n",
       "      <td>NaN</td>\n",
       "      <td>NaN</td>\n",
       "      <td>NaN</td>\n",
       "      <td>NaN</td>\n",
       "      <td>NaN</td>\n",
       "    </tr>\n",
       "    <tr>\n",
       "      <th>3</th>\n",
       "      <td>2008</td>\n",
       "      <td>1</td>\n",
       "      <td>3</td>\n",
       "      <td>4</td>\n",
       "      <td>926.0</td>\n",
       "      <td>WN</td>\n",
       "      <td>1746</td>\n",
       "      <td>-6.0</td>\n",
       "      <td>-4.0</td>\n",
       "      <td>IND</td>\n",
       "      <td>BWI</td>\n",
       "      <td>515</td>\n",
       "      <td>0</td>\n",
       "      <td>NaN</td>\n",
       "      <td>NaN</td>\n",
       "      <td>NaN</td>\n",
       "      <td>NaN</td>\n",
       "      <td>NaN</td>\n",
       "      <td>NaN</td>\n",
       "    </tr>\n",
       "    <tr>\n",
       "      <th>4</th>\n",
       "      <td>2008</td>\n",
       "      <td>1</td>\n",
       "      <td>3</td>\n",
       "      <td>4</td>\n",
       "      <td>1829.0</td>\n",
       "      <td>WN</td>\n",
       "      <td>3920</td>\n",
       "      <td>34.0</td>\n",
       "      <td>34.0</td>\n",
       "      <td>IND</td>\n",
       "      <td>BWI</td>\n",
       "      <td>515</td>\n",
       "      <td>0</td>\n",
       "      <td>NaN</td>\n",
       "      <td>2.0</td>\n",
       "      <td>0.0</td>\n",
       "      <td>0.0</td>\n",
       "      <td>0.0</td>\n",
       "      <td>32.0</td>\n",
       "    </tr>\n",
       "  </tbody>\n",
       "</table>\n",
       "</div>"
      ],
      "text/plain": [
       "   Year  Month  DayofMonth  DayOfWeek  DepTime UniqueCarrier  FlightNum  \\\n",
       "0  2008      1           3          4   2003.0            WN        335   \n",
       "1  2008      1           3          4    754.0            WN       3231   \n",
       "2  2008      1           3          4    628.0            WN        448   \n",
       "3  2008      1           3          4    926.0            WN       1746   \n",
       "4  2008      1           3          4   1829.0            WN       3920   \n",
       "\n",
       "   ArrDelay  DepDelay Origin Dest  Distance  Cancelled CancellationCode  \\\n",
       "0     -14.0       8.0    IAD  TPA       810          0              NaN   \n",
       "1       2.0      19.0    IAD  TPA       810          0              NaN   \n",
       "2      14.0       8.0    IND  BWI       515          0              NaN   \n",
       "3      -6.0      -4.0    IND  BWI       515          0              NaN   \n",
       "4      34.0      34.0    IND  BWI       515          0              NaN   \n",
       "\n",
       "   CarrierDelay  WeatherDelay  NASDelay  SecurityDelay  LateAircraftDelay  \n",
       "0           NaN           NaN       NaN            NaN                NaN  \n",
       "1           NaN           NaN       NaN            NaN                NaN  \n",
       "2           NaN           NaN       NaN            NaN                NaN  \n",
       "3           NaN           NaN       NaN            NaN                NaN  \n",
       "4           2.0           0.0       0.0            0.0               32.0  "
      ]
     },
     "execution_count": 10,
     "metadata": {},
     "output_type": "execute_result"
    }
   ],
   "source": [
    "# You code here\n",
    "flights_df.head()"
   ]
  },
  {
   "cell_type": "code",
   "execution_count": 14,
   "metadata": {},
   "outputs": [
    {
     "data": {
      "text/plain": [
       "DayOfWeek\n",
       "1    1036201\n",
       "2    1032049\n",
       "3    1039665\n",
       "4    1032224\n",
       "5    1035166\n",
       "6     857536\n",
       "7     976887\n",
       "Name: DayOfWeek, dtype: int64"
      ]
     },
     "execution_count": 14,
     "metadata": {},
     "output_type": "execute_result"
    }
   ],
   "source": [
    "flights_df.groupby('DayOfWeek')['DayOfWeek'].count()"
   ]
  },
  {
   "cell_type": "code",
   "execution_count": 49,
   "metadata": {},
   "outputs": [],
   "source": [
    "def season(l):\n",
    "    season = ('n','w','w','n','n','n','s','s','s','n','n','n','w')\n",
    "    return season[l]"
   ]
  },
  {
   "cell_type": "code",
   "execution_count": 54,
   "metadata": {
    "scrolled": true
   },
   "outputs": [
    {
     "data": {
      "text/plain": [
       "season\n",
       "n    3440894\n",
       "s    1848875\n",
       "w    1719959\n",
       "Name: FlightNum, dtype: int64"
      ]
     },
     "execution_count": 54,
     "metadata": {},
     "output_type": "execute_result"
    }
   ],
   "source": [
    "months = flights_df.groupby('Month')[['FlightNum']].count().reset_index()\n",
    "months['season'] = months.Month.apply(season)\n",
    "months.groupby('season')['FlightNum'].sum()"
   ]
  },
  {
   "cell_type": "markdown",
   "metadata": {},
   "source": [
    "Choose all correct statements:\n",
    "\n",
    "- The number of flights during weekends is less than during weekdays (working days). => **True**\n",
    "- The lowest number of flights is on Sunday. => **False**\n",
    "- There are less flights during winter than during summer. => **True**"
   ]
  },
  {
   "cell_type": "markdown",
   "metadata": {},
   "source": [
    "**7. Examine the distribution of cancellation reasons with time. Make a bar plot of cancellation reasons aggregated by months.**\n",
    "\n",
    "**Choose all correct statements:**\n",
    "- December has the highest rate of cancellations due to weather. \n",
    "- The highest rate of cancellations in September is due to Security reasons.\n",
    "- April's top cancellation reason is carriers.\n",
    "- Flights cancellations due to National Air System are more frequent than those due to carriers."
   ]
  },
  {
   "cell_type": "code",
   "execution_count": 13,
   "metadata": {
    "collapsed": true
   },
   "outputs": [
    {
     "data": {
      "text/html": [
       "<div>\n",
       "<style scoped>\n",
       "    .dataframe tbody tr th:only-of-type {\n",
       "        vertical-align: middle;\n",
       "    }\n",
       "\n",
       "    .dataframe tbody tr th {\n",
       "        vertical-align: top;\n",
       "    }\n",
       "\n",
       "    .dataframe thead th {\n",
       "        text-align: right;\n",
       "    }\n",
       "</style>\n",
       "<table border=\"1\" class=\"dataframe\">\n",
       "  <thead>\n",
       "    <tr style=\"text-align: right;\">\n",
       "      <th></th>\n",
       "      <th>Year</th>\n",
       "      <th>Month</th>\n",
       "      <th>DayofMonth</th>\n",
       "      <th>DayOfWeek</th>\n",
       "      <th>DepTime</th>\n",
       "      <th>UniqueCarrier</th>\n",
       "      <th>FlightNum</th>\n",
       "      <th>ArrDelay</th>\n",
       "      <th>DepDelay</th>\n",
       "      <th>Origin</th>\n",
       "      <th>Dest</th>\n",
       "      <th>Distance</th>\n",
       "      <th>Cancelled</th>\n",
       "      <th>CancellationCode</th>\n",
       "      <th>CarrierDelay</th>\n",
       "      <th>WeatherDelay</th>\n",
       "      <th>NASDelay</th>\n",
       "      <th>SecurityDelay</th>\n",
       "      <th>LateAircraftDelay</th>\n",
       "    </tr>\n",
       "    <tr>\n",
       "      <th>Month</th>\n",
       "      <th></th>\n",
       "      <th></th>\n",
       "      <th></th>\n",
       "      <th></th>\n",
       "      <th></th>\n",
       "      <th></th>\n",
       "      <th></th>\n",
       "      <th></th>\n",
       "      <th></th>\n",
       "      <th></th>\n",
       "      <th></th>\n",
       "      <th></th>\n",
       "      <th></th>\n",
       "      <th></th>\n",
       "      <th></th>\n",
       "      <th></th>\n",
       "      <th></th>\n",
       "      <th></th>\n",
       "      <th></th>\n",
       "    </tr>\n",
       "  </thead>\n",
       "  <tbody>\n",
       "    <tr>\n",
       "      <th>1</th>\n",
       "      <td>605765</td>\n",
       "      <td>605765</td>\n",
       "      <td>605765</td>\n",
       "      <td>605765</td>\n",
       "      <td>605765</td>\n",
       "      <td>605765</td>\n",
       "      <td>605765</td>\n",
       "      <td>605765</td>\n",
       "      <td>605765</td>\n",
       "      <td>605765</td>\n",
       "      <td>605765</td>\n",
       "      <td>605765</td>\n",
       "      <td>605765</td>\n",
       "      <td>605765</td>\n",
       "      <td>605765</td>\n",
       "      <td>605765</td>\n",
       "      <td>605765</td>\n",
       "      <td>605765</td>\n",
       "      <td>605765</td>\n",
       "    </tr>\n",
       "    <tr>\n",
       "      <th>2</th>\n",
       "      <td>569236</td>\n",
       "      <td>569236</td>\n",
       "      <td>569236</td>\n",
       "      <td>569236</td>\n",
       "      <td>569236</td>\n",
       "      <td>569236</td>\n",
       "      <td>569236</td>\n",
       "      <td>569236</td>\n",
       "      <td>569236</td>\n",
       "      <td>569236</td>\n",
       "      <td>569236</td>\n",
       "      <td>569236</td>\n",
       "      <td>569236</td>\n",
       "      <td>569236</td>\n",
       "      <td>569236</td>\n",
       "      <td>569236</td>\n",
       "      <td>569236</td>\n",
       "      <td>569236</td>\n",
       "      <td>569236</td>\n",
       "    </tr>\n",
       "    <tr>\n",
       "      <th>3</th>\n",
       "      <td>616090</td>\n",
       "      <td>616090</td>\n",
       "      <td>616090</td>\n",
       "      <td>616090</td>\n",
       "      <td>616090</td>\n",
       "      <td>616090</td>\n",
       "      <td>616090</td>\n",
       "      <td>616090</td>\n",
       "      <td>616090</td>\n",
       "      <td>616090</td>\n",
       "      <td>616090</td>\n",
       "      <td>616090</td>\n",
       "      <td>616090</td>\n",
       "      <td>616090</td>\n",
       "      <td>616090</td>\n",
       "      <td>616090</td>\n",
       "      <td>616090</td>\n",
       "      <td>616090</td>\n",
       "      <td>616090</td>\n",
       "    </tr>\n",
       "    <tr>\n",
       "      <th>4</th>\n",
       "      <td>598126</td>\n",
       "      <td>598126</td>\n",
       "      <td>598126</td>\n",
       "      <td>598126</td>\n",
       "      <td>598126</td>\n",
       "      <td>598126</td>\n",
       "      <td>598126</td>\n",
       "      <td>598126</td>\n",
       "      <td>598126</td>\n",
       "      <td>598126</td>\n",
       "      <td>598126</td>\n",
       "      <td>598126</td>\n",
       "      <td>598126</td>\n",
       "      <td>598126</td>\n",
       "      <td>598126</td>\n",
       "      <td>598126</td>\n",
       "      <td>598126</td>\n",
       "      <td>598126</td>\n",
       "      <td>598126</td>\n",
       "    </tr>\n",
       "    <tr>\n",
       "      <th>5</th>\n",
       "      <td>606293</td>\n",
       "      <td>606293</td>\n",
       "      <td>606293</td>\n",
       "      <td>606293</td>\n",
       "      <td>606293</td>\n",
       "      <td>606293</td>\n",
       "      <td>606293</td>\n",
       "      <td>606293</td>\n",
       "      <td>606293</td>\n",
       "      <td>606293</td>\n",
       "      <td>606293</td>\n",
       "      <td>606293</td>\n",
       "      <td>606293</td>\n",
       "      <td>606293</td>\n",
       "      <td>606293</td>\n",
       "      <td>606293</td>\n",
       "      <td>606293</td>\n",
       "      <td>606293</td>\n",
       "      <td>606293</td>\n",
       "    </tr>\n",
       "    <tr>\n",
       "      <th>6</th>\n",
       "      <td>608665</td>\n",
       "      <td>608665</td>\n",
       "      <td>608665</td>\n",
       "      <td>608665</td>\n",
       "      <td>608665</td>\n",
       "      <td>608665</td>\n",
       "      <td>608665</td>\n",
       "      <td>608665</td>\n",
       "      <td>608665</td>\n",
       "      <td>608665</td>\n",
       "      <td>608665</td>\n",
       "      <td>608665</td>\n",
       "      <td>608665</td>\n",
       "      <td>608665</td>\n",
       "      <td>608665</td>\n",
       "      <td>608665</td>\n",
       "      <td>608665</td>\n",
       "      <td>608665</td>\n",
       "      <td>608665</td>\n",
       "    </tr>\n",
       "    <tr>\n",
       "      <th>7</th>\n",
       "      <td>627931</td>\n",
       "      <td>627931</td>\n",
       "      <td>627931</td>\n",
       "      <td>627931</td>\n",
       "      <td>627931</td>\n",
       "      <td>627931</td>\n",
       "      <td>627931</td>\n",
       "      <td>627931</td>\n",
       "      <td>627931</td>\n",
       "      <td>627931</td>\n",
       "      <td>627931</td>\n",
       "      <td>627931</td>\n",
       "      <td>627931</td>\n",
       "      <td>627931</td>\n",
       "      <td>627931</td>\n",
       "      <td>627931</td>\n",
       "      <td>627931</td>\n",
       "      <td>627931</td>\n",
       "      <td>627931</td>\n",
       "    </tr>\n",
       "    <tr>\n",
       "      <th>8</th>\n",
       "      <td>612279</td>\n",
       "      <td>612279</td>\n",
       "      <td>612279</td>\n",
       "      <td>612279</td>\n",
       "      <td>612279</td>\n",
       "      <td>612279</td>\n",
       "      <td>612279</td>\n",
       "      <td>612279</td>\n",
       "      <td>612279</td>\n",
       "      <td>612279</td>\n",
       "      <td>612279</td>\n",
       "      <td>612279</td>\n",
       "      <td>612279</td>\n",
       "      <td>612279</td>\n",
       "      <td>612279</td>\n",
       "      <td>612279</td>\n",
       "      <td>612279</td>\n",
       "      <td>612279</td>\n",
       "      <td>612279</td>\n",
       "    </tr>\n",
       "    <tr>\n",
       "      <th>9</th>\n",
       "      <td>540908</td>\n",
       "      <td>540908</td>\n",
       "      <td>540908</td>\n",
       "      <td>540908</td>\n",
       "      <td>540908</td>\n",
       "      <td>540908</td>\n",
       "      <td>540908</td>\n",
       "      <td>540908</td>\n",
       "      <td>540908</td>\n",
       "      <td>540908</td>\n",
       "      <td>540908</td>\n",
       "      <td>540908</td>\n",
       "      <td>540908</td>\n",
       "      <td>540908</td>\n",
       "      <td>540908</td>\n",
       "      <td>540908</td>\n",
       "      <td>540908</td>\n",
       "      <td>540908</td>\n",
       "      <td>540908</td>\n",
       "    </tr>\n",
       "    <tr>\n",
       "      <th>10</th>\n",
       "      <td>556205</td>\n",
       "      <td>556205</td>\n",
       "      <td>556205</td>\n",
       "      <td>556205</td>\n",
       "      <td>556205</td>\n",
       "      <td>556205</td>\n",
       "      <td>556205</td>\n",
       "      <td>556205</td>\n",
       "      <td>556205</td>\n",
       "      <td>556205</td>\n",
       "      <td>556205</td>\n",
       "      <td>556205</td>\n",
       "      <td>556205</td>\n",
       "      <td>556205</td>\n",
       "      <td>556205</td>\n",
       "      <td>556205</td>\n",
       "      <td>556205</td>\n",
       "      <td>556205</td>\n",
       "      <td>556205</td>\n",
       "    </tr>\n",
       "    <tr>\n",
       "      <th>11</th>\n",
       "      <td>523272</td>\n",
       "      <td>523272</td>\n",
       "      <td>523272</td>\n",
       "      <td>523272</td>\n",
       "      <td>523272</td>\n",
       "      <td>523272</td>\n",
       "      <td>523272</td>\n",
       "      <td>523272</td>\n",
       "      <td>523272</td>\n",
       "      <td>523272</td>\n",
       "      <td>523272</td>\n",
       "      <td>523272</td>\n",
       "      <td>523272</td>\n",
       "      <td>523272</td>\n",
       "      <td>523272</td>\n",
       "      <td>523272</td>\n",
       "      <td>523272</td>\n",
       "      <td>523272</td>\n",
       "      <td>523272</td>\n",
       "    </tr>\n",
       "    <tr>\n",
       "      <th>12</th>\n",
       "      <td>544958</td>\n",
       "      <td>544958</td>\n",
       "      <td>544958</td>\n",
       "      <td>544958</td>\n",
       "      <td>544958</td>\n",
       "      <td>544958</td>\n",
       "      <td>544958</td>\n",
       "      <td>544958</td>\n",
       "      <td>544958</td>\n",
       "      <td>544958</td>\n",
       "      <td>544958</td>\n",
       "      <td>544958</td>\n",
       "      <td>544958</td>\n",
       "      <td>544958</td>\n",
       "      <td>544958</td>\n",
       "      <td>544958</td>\n",
       "      <td>544958</td>\n",
       "      <td>544958</td>\n",
       "      <td>544958</td>\n",
       "    </tr>\n",
       "  </tbody>\n",
       "</table>\n",
       "</div>"
      ],
      "text/plain": [
       "         Year   Month  DayofMonth  DayOfWeek  DepTime  UniqueCarrier  \\\n",
       "Month                                                                  \n",
       "1      605765  605765      605765     605765   605765         605765   \n",
       "2      569236  569236      569236     569236   569236         569236   \n",
       "3      616090  616090      616090     616090   616090         616090   \n",
       "4      598126  598126      598126     598126   598126         598126   \n",
       "5      606293  606293      606293     606293   606293         606293   \n",
       "6      608665  608665      608665     608665   608665         608665   \n",
       "7      627931  627931      627931     627931   627931         627931   \n",
       "8      612279  612279      612279     612279   612279         612279   \n",
       "9      540908  540908      540908     540908   540908         540908   \n",
       "10     556205  556205      556205     556205   556205         556205   \n",
       "11     523272  523272      523272     523272   523272         523272   \n",
       "12     544958  544958      544958     544958   544958         544958   \n",
       "\n",
       "       FlightNum  ArrDelay  DepDelay  Origin    Dest  Distance  Cancelled  \\\n",
       "Month                                                                       \n",
       "1         605765    605765    605765  605765  605765    605765     605765   \n",
       "2         569236    569236    569236  569236  569236    569236     569236   \n",
       "3         616090    616090    616090  616090  616090    616090     616090   \n",
       "4         598126    598126    598126  598126  598126    598126     598126   \n",
       "5         606293    606293    606293  606293  606293    606293     606293   \n",
       "6         608665    608665    608665  608665  608665    608665     608665   \n",
       "7         627931    627931    627931  627931  627931    627931     627931   \n",
       "8         612279    612279    612279  612279  612279    612279     612279   \n",
       "9         540908    540908    540908  540908  540908    540908     540908   \n",
       "10        556205    556205    556205  556205  556205    556205     556205   \n",
       "11        523272    523272    523272  523272  523272    523272     523272   \n",
       "12        544958    544958    544958  544958  544958    544958     544958   \n",
       "\n",
       "       CancellationCode  CarrierDelay  WeatherDelay  NASDelay  SecurityDelay  \\\n",
       "Month                                                                          \n",
       "1                605765        605765        605765    605765         605765   \n",
       "2                569236        569236        569236    569236         569236   \n",
       "3                616090        616090        616090    616090         616090   \n",
       "4                598126        598126        598126    598126         598126   \n",
       "5                606293        606293        606293    606293         606293   \n",
       "6                608665        608665        608665    608665         608665   \n",
       "7                627931        627931        627931    627931         627931   \n",
       "8                612279        612279        612279    612279         612279   \n",
       "9                540908        540908        540908    540908         540908   \n",
       "10               556205        556205        556205    556205         556205   \n",
       "11               523272        523272        523272    523272         523272   \n",
       "12               544958        544958        544958    544958         544958   \n",
       "\n",
       "       LateAircraftDelay  \n",
       "Month                     \n",
       "1                 605765  \n",
       "2                 569236  \n",
       "3                 616090  \n",
       "4                 598126  \n",
       "5                 606293  \n",
       "6                 608665  \n",
       "7                 627931  \n",
       "8                 612279  \n",
       "9                 540908  \n",
       "10                556205  \n",
       "11                523272  \n",
       "12                544958  "
      ]
     },
     "execution_count": 13,
     "metadata": {},
     "output_type": "execute_result"
    }
   ],
   "source": [
    "def count_sa(st):\n",
    "    m = st.fillna(0)\n",
    "    return (m > 0).count()\n",
    "\n",
    "flights_df.groupby(['Month']).apply(count_sa)"
   ]
  },
  {
   "cell_type": "code",
   "execution_count": 51,
   "metadata": {},
   "outputs": [
    {
     "data": {
      "text/plain": [
       "<matplotlib.axes._subplots.AxesSubplot at 0x1a1cf3f5c0>"
      ]
     },
     "execution_count": 51,
     "metadata": {},
     "output_type": "execute_result"
    },
    {
     "data": {
      "image/png": "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\n",
      "text/plain": [
       "<Figure size 432x288 with 1 Axes>"
      ]
     },
     "metadata": {},
     "output_type": "display_data"
    }
   ],
   "source": [
    "ans = pd.crosstab(flights_df.Month, flights_df.CancellationCode).sort_values('A', ascending = False)\n",
    "ans.plot(kind='bar')"
=======
   "execution_count": 17,
   "metadata": {},
   "outputs": [],
   "source": [
    "# You code here"
   ]
  },
  {
   "cell_type": "markdown",
   "metadata": {},
   "source": [
    "**3. Which route is the most frequent, in terms of the number of flights?**\n",
    "\n",
    "(Take a look at _'Origin'_ and _'Dest'_ features. Consider _A->B_ and _B->A_ directions as _different_ routes) \n",
    "\n",
    " - New-York – Washington\n",
    " - San-Francisco – Los-Angeles \n",
    " - San-Jose – Dallas\n",
    " - New-York – San-Francisco"
>>>>>>> 1a334d0093fcda99b0a523163172a42b8bc84239
   ]
  },
  {
   "cell_type": "code",
<<<<<<< HEAD
   "execution_count": 57,
   "metadata": {},
   "outputs": [
    {
     "data": {
      "text/plain": [
       "CancellationCode\n",
       "A    54330\n",
       "B    54904\n",
       "C    28188\n",
       "D       12\n",
       "dtype: int64"
      ]
     },
     "execution_count": 57,
     "metadata": {},
     "output_type": "execute_result"
    }
   ],
   "source": [
    "ans.sum()"
=======
   "execution_count": 18,
   "metadata": {},
   "outputs": [],
   "source": [
    "# You code here"
>>>>>>> 1a334d0093fcda99b0a523163172a42b8bc84239
   ]
  },
  {
   "cell_type": "markdown",
   "metadata": {},
   "source": [
<<<<<<< HEAD
    "Choose all correct statements:\n",
    "\n",
    "- December has the highest rate of cancellations due to weather. => **True**\n",
    "- The highest rate of cancellations in September is due to Security reasons. => **False**\n",
    "- April's top cancellation reason is carriers. => **True**\n",
    "- Flights cancellations due to National Air System are more frequent than those due to carriers. => **False**"
   ]
  },
  {
   "cell_type": "markdown",
   "metadata": {},
   "source": [
    "**8. Which month has the greatest number of cancellations due to Carrier?** \n",
    "- May\n",
    "- January\n",
    "- September\n",
    "- April "
   ]
  },
  {
   "cell_type": "markdown",
   "metadata": {},
   "source": [
    "**April**"
=======
    "**4. Find top-5 delayed routes (count how many times they were delayed on departure). From all flights on these 5 routes, count all flights with weather conditions contributing to a delay.**\n",
    "\n",
    "- 449 \n",
    "- 539 \n",
    "- 549 \n",
    "- 668 "
   ]
  },
  {
   "cell_type": "code",
   "execution_count": 15,
   "metadata": {},
   "outputs": [],
   "source": [
    "# You code here"
>>>>>>> 1a334d0093fcda99b0a523163172a42b8bc84239
   ]
  },
  {
   "cell_type": "markdown",
   "metadata": {},
   "source": [
<<<<<<< HEAD
    "**9. Identify the carrier with the greatest number of cancellations due to carrier in the corresponding month from the previous question.**\n",
    "\n",
    "- 9E\n",
    "- EV\n",
    "- HA\n",
    "- AA"
=======
    "**5. Examine the hourly distribution of departure times. For that, create a new series from DepTime, removing missing values.**\n",
    "\n",
    "**Choose all correct statements:**\n",
    " - Flights are normally distributed within time interval [0-23] (Search for: Normal distribution, bell curve).\n",
    " - Flights are uniformly distributed within time interval [0-23].\n",
    " - In the period from 0 am to 4 am there are considerably less flights than from 7 pm to 8 pm."
>>>>>>> 1a334d0093fcda99b0a523163172a42b8bc84239
   ]
  },
  {
   "cell_type": "code",
<<<<<<< HEAD
   "execution_count": 64,
   "metadata": {},
   "outputs": [
    {
     "data": {
      "text/html": [
       "<div>\n",
       "<style scoped>\n",
       "    .dataframe tbody tr th:only-of-type {\n",
       "        vertical-align: middle;\n",
       "    }\n",
       "\n",
       "    .dataframe tbody tr th {\n",
       "        vertical-align: top;\n",
       "    }\n",
       "\n",
       "    .dataframe thead th {\n",
       "        text-align: right;\n",
       "    }\n",
       "</style>\n",
       "<table border=\"1\" class=\"dataframe\">\n",
       "  <thead>\n",
       "    <tr style=\"text-align: right;\">\n",
       "      <th>CancellationCode</th>\n",
       "      <th>A</th>\n",
       "      <th>B</th>\n",
       "      <th>C</th>\n",
       "    </tr>\n",
       "    <tr>\n",
       "      <th>UniqueCarrier</th>\n",
       "      <th></th>\n",
       "      <th></th>\n",
       "      <th></th>\n",
       "    </tr>\n",
       "  </thead>\n",
       "  <tbody>\n",
       "    <tr>\n",
       "      <th>AA</th>\n",
       "      <td>3696</td>\n",
       "      <td>131</td>\n",
       "      <td>91</td>\n",
       "    </tr>\n",
       "    <tr>\n",
       "      <th>WN</th>\n",
       "      <td>533</td>\n",
       "      <td>0</td>\n",
       "      <td>21</td>\n",
       "    </tr>\n",
       "    <tr>\n",
       "      <th>UA</th>\n",
       "      <td>494</td>\n",
       "      <td>138</td>\n",
       "      <td>50</td>\n",
       "    </tr>\n",
       "    <tr>\n",
       "      <th>YV</th>\n",
       "      <td>454</td>\n",
       "      <td>106</td>\n",
       "      <td>241</td>\n",
       "    </tr>\n",
       "    <tr>\n",
       "      <th>9E</th>\n",
       "      <td>391</td>\n",
       "      <td>59</td>\n",
       "      <td>64</td>\n",
       "    </tr>\n",
       "  </tbody>\n",
       "</table>\n",
       "</div>"
      ],
      "text/plain": [
       "CancellationCode     A    B    C\n",
       "UniqueCarrier                   \n",
       "AA                3696  131   91\n",
       "WN                 533    0   21\n",
       "UA                 494  138   50\n",
       "YV                 454  106  241\n",
       "9E                 391   59   64"
      ]
     },
     "execution_count": 64,
     "metadata": {},
     "output_type": "execute_result"
    }
   ],
   "source": [
    "# You code here\n",
    "tbl = flights_df[flights_df.Month == 4]\n",
    "pd.crosstab(tbl.UniqueCarrier, tbl.CancellationCode).sort_values('A', ascending = False).head()"
=======
   "execution_count": 19,
   "metadata": {},
   "outputs": [],
   "source": [
    "# You code here"
>>>>>>> 1a334d0093fcda99b0a523163172a42b8bc84239
   ]
  },
  {
   "cell_type": "markdown",
   "metadata": {},
   "source": [
<<<<<<< HEAD
    "**AA**"
   ]
  },
  {
   "cell_type": "markdown",
   "metadata": {},
   "source": [
    "**10. Examine median arrival and departure delays (in time) by carrier. Which carrier has the lowest median delay time for both arrivals and departures? Leave only non-negative values of delay times ('ArrDelay', 'DepDelay').\n",
    "[Boxplots](https://seaborn.pydata.org/generated/seaborn.boxplot.html) can be helpful in this exercise, as well as it might be a good idea to remove outliers in order to build nice graphs. You can exclude delay time values higher than a corresponding .95 percentile.**\n",
    "\n",
    "- EV\n",
    "- OO\n",
    "- AA\n",
    "- AQ "
   ]
  },
  {
   "cell_type": "code",
   "execution_count": 65,
   "metadata": {},
   "outputs": [],
   "source": [
    "# You code here\n",
    "arr_del = flights_df[flights_df.ArrDelay > 0]"
=======
    "**6. Show how the number of flights changes through time (on the daily/weekly/monthly basis) and interpret the findings.**\n",
    "\n",
    "**Choose all correct statements:**\n",
    "- The number of flights during weekends is less than during weekdays (working days).\n",
    "- The lowest number of flights is on Sunday.\n",
    "- There are less flights during winter than during summer.  "
   ]
  },
  {
   "cell_type": "code",
   "execution_count": 20,
   "metadata": {},
   "outputs": [],
   "source": [
    "# You code here"
   ]
  },
  {
   "cell_type": "markdown",
   "metadata": {},
   "source": [
    "**7. Examine the distribution of cancellation reasons with time. Make a bar plot of cancellation reasons aggregated by months.**\n",
    "\n",
    "**Choose all correct statements:**\n",
    "- December has the highest rate of cancellations due to weather. \n",
    "- The highest rate of cancellations in September is due to Security reasons.\n",
    "- April's top cancellation reason is carriers.\n",
    "- Flights cancellations due to National Air System are more frequent than those due to carriers."
>>>>>>> 1a334d0093fcda99b0a523163172a42b8bc84239
   ]
  },
  {
   "cell_type": "code",
<<<<<<< HEAD
   "execution_count": 66,
   "metadata": {},
   "outputs": [],
   "source": [
    "dep_del = flights_df[flights_df.DepDelay > 0]"
   ]
  },
  {
   "cell_type": "code",
   "execution_count": 94,
   "metadata": {
    "collapsed": true
   },
   "outputs": [
    {
     "data": {
      "text/plain": [
       "<matplotlib.axes._subplots.AxesSubplot at 0x1a8bb957b8>"
      ]
     },
     "execution_count": 94,
     "metadata": {},
     "output_type": "execute_result"
    },
    {
     "data": {
      "image/png": "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\n",
      "text/plain": [
       "<Figure size 842.4x595.44 with 1 Axes>"
      ]
     },
     "metadata": {},
     "output_type": "display_data"
    }
   ],
   "source": [
    "from matplotlib import pyplot\n",
    "import seaborn\n",
    "\n",
    "# import mylib\n",
    "\n",
    "a4_dims = (11.7, 8.27)\n",
    "# df = mylib.load_data()\n",
    "fig, ax = pyplot.subplots(figsize=a4_dims)\n",
    "\n",
    "sns.boxplot(x = flights_df.UniqueCarrier, y = flights_df.ArrDelay,  fliersize = .95, ax=ax)"
=======
   "execution_count": 21,
   "metadata": {},
   "outputs": [],
   "source": [
    "# You code here"
   ]
  },
  {
   "cell_type": "markdown",
   "metadata": {},
   "source": [
    "**8. Which month has the greatest number of cancellations due to Carrier?** \n",
    "- May\n",
    "- January\n",
    "- September\n",
    "- April "
>>>>>>> 1a334d0093fcda99b0a523163172a42b8bc84239
   ]
  },
  {
   "cell_type": "code",
<<<<<<< HEAD
   "execution_count": 101,
   "metadata": {},
   "outputs": [
    {
     "data": {
      "text/plain": [
       "UniqueCarrier\n",
       "AQ     5.0\n",
       "HA     7.0\n",
       "F9    12.0\n",
       "WN    13.0\n",
       "OO    13.0\n",
       "DL    13.0\n",
       "FL    14.0\n",
       "AS    14.0\n",
       "US    14.0\n",
       "NW    14.0\n",
       "9E    15.0\n",
       "CO    15.0\n",
       "YV    16.0\n",
       "EV    17.0\n",
       "OH    17.0\n",
       "XE    17.0\n",
       "MQ    18.0\n",
       "AA    18.0\n",
       "UA    19.0\n",
       "B6    20.0\n",
       "Name: ArrDelay, dtype: float16"
      ]
     },
     "execution_count": 101,
     "metadata": {},
     "output_type": "execute_result"
    }
   ],
   "source": [
    "arr_del.groupby('UniqueCarrier')['ArrDelay'].median().sort_values()"
   ]
  },
  {
   "cell_type": "code",
   "execution_count": 102,
   "metadata": {},
   "outputs": [
    {
     "data": {
      "text/plain": [
       "UniqueCarrier\n",
       "AQ     7.0\n",
       "HA     7.0\n",
       "WN     9.0\n",
       "F9    10.0\n",
       "US    11.0\n",
       "CO    11.0\n",
       "AS    12.0\n",
       "DL    12.0\n",
       "NW    14.0\n",
       "FL    15.0\n",
       "OO    15.0\n",
       "UA    17.0\n",
       "9E    17.0\n",
       "XE    18.0\n",
       "AA    18.0\n",
       "MQ    18.0\n",
       "EV    19.0\n",
       "B6    21.0\n",
       "OH    25.0\n",
       "YV    26.0\n",
       "Name: DepDelay, dtype: float16"
      ]
     },
     "execution_count": 102,
     "metadata": {},
     "output_type": "execute_result"
    }
   ],
   "source": [
    "dep_del.groupby('UniqueCarrier')['DepDelay'].median().sort_values()"
=======
   "execution_count": 22,
   "metadata": {},
   "outputs": [],
   "source": [
    "# You code here"
   ]
  },
  {
   "cell_type": "markdown",
   "metadata": {},
   "source": [
    "**9. Identify the carrier with the greatest number of cancellations due to carrier in the corresponding month from the previous question.**\n",
    "\n",
    "- 9E\n",
    "- EV\n",
    "- HA\n",
    "- AA"
>>>>>>> 1a334d0093fcda99b0a523163172a42b8bc84239
   ]
  },
  {
   "cell_type": "code",
<<<<<<< HEAD
   "execution_count": 96,
   "metadata": {},
   "outputs": [
    {
     "data": {
      "text/plain": [
       "<matplotlib.axes._subplots.AxesSubplot at 0x1a8bb957b8>"
      ]
     },
     "execution_count": 96,
     "metadata": {},
     "output_type": "execute_result"
    }
   ],
   "source": [
    "sns.boxplot(x = flights_df.UniqueCarrier, y = flights_df.DepDelay, fliersize = .95, ax= ax)"
=======
   "execution_count": 23,
   "metadata": {},
   "outputs": [],
   "source": [
    "# You code here"
>>>>>>> 1a334d0093fcda99b0a523163172a42b8bc84239
   ]
  },
  {
   "cell_type": "markdown",
   "metadata": {},
   "source": [
<<<<<<< HEAD
    "**AQ**"
=======
    "**10. Examine median arrival and departure delays (in time) by carrier. Which carrier has the lowest median delay time for both arrivals and departures? Leave only non-negative values of delay times ('ArrDelay', 'DepDelay').\n",
    "[Boxplots](https://seaborn.pydata.org/generated/seaborn.boxplot.html) can be helpful in this exercise, as well as it might be a good idea to remove outliers in order to build nice graphs. You can exclude delay time values higher than a corresponding .95 percentile.**\n",
    "\n",
    "- EV\n",
    "- OO\n",
    "- AA\n",
    "- AQ "
>>>>>>> 1a334d0093fcda99b0a523163172a42b8bc84239
   ]
  },
  {
   "cell_type": "code",
<<<<<<< HEAD
   "execution_count": null,
   "metadata": {},
   "outputs": [],
   "source": []
=======
   "execution_count": 25,
   "metadata": {},
   "outputs": [],
   "source": [
    "# You code here"
   ]
>>>>>>> 1a334d0093fcda99b0a523163172a42b8bc84239
  }
 ],
 "metadata": {
  "anaconda-cloud": {},
  "kernelspec": {
   "display_name": "Python 3",
   "language": "python",
   "name": "python3"
  },
  "language_info": {
   "codemirror_mode": {
    "name": "ipython",
    "version": 3
   },
   "file_extension": ".py",
   "mimetype": "text/x-python",
   "name": "python",
   "nbconvert_exporter": "python",
   "pygments_lexer": "ipython3",
<<<<<<< HEAD
   "version": "3.6.5"
  },
  "varInspector": {
   "cols": {
    "lenName": 16,
    "lenType": 16,
    "lenVar": 40
   },
   "kernels_config": {
    "python": {
     "delete_cmd_postfix": "",
     "delete_cmd_prefix": "del ",
     "library": "var_list.py",
     "varRefreshCmd": "print(var_dic_list())"
    },
    "r": {
     "delete_cmd_postfix": ") ",
     "delete_cmd_prefix": "rm(",
     "library": "var_list.r",
     "varRefreshCmd": "cat(var_dic_list()) "
    }
   },
   "types_to_exclude": [
    "module",
    "function",
    "builtin_function_or_method",
    "instance",
    "_Feature"
   ],
   "window_display": false
=======
   "version": "3.6.6"
>>>>>>> 1a334d0093fcda99b0a523163172a42b8bc84239
  }
 },
 "nbformat": 4,
 "nbformat_minor": 1
}
